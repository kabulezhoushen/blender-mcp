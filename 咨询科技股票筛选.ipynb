{
  "nbformat": 4,
  "nbformat_minor": 0,
  "metadata": {
    "colab": {
      "provenance": [],
      "authorship_tag": "ABX9TyOCBXmyvJbY6SMuiZCF9HKk",
      "include_colab_link": true
    },
    "kernelspec": {
      "name": "python3",
      "display_name": "Python 3"
    },
    "language_info": {
      "name": "python"
    }
  },
  "cells": [
    {
      "cell_type": "markdown",
      "metadata": {
        "id": "view-in-github",
        "colab_type": "text"
      },
      "source": [
        "<a href=\"https://colab.research.google.com/github/kabulezhoushen/blender-mcp/blob/main/%E5%92%A8%E8%AF%A2%E7%A7%91%E6%8A%80%E8%82%A1%E7%A5%A8%E7%AD%9B%E9%80%89.ipynb\" target=\"_parent\"><img src=\"https://colab.research.google.com/assets/colab-badge.svg\" alt=\"Open In Colab\"/></a>"
      ]
    },
    {
      "cell_type": "code",
      "execution_count": 2,
      "metadata": {
        "colab": {
          "base_uri": "https://localhost:8080/"
        },
        "id": "km9vM6gRrrmE",
        "outputId": "29921b90-3dfe-40b5-a92e-4823ea0c9ac8"
      },
      "outputs": [
        {
          "output_type": "stream",
          "name": "stdout",
          "text": [
            "['81810.HK', '80992.HK', '80700.HK', '80020.HK', '9999.HK', '9990.HK', '9963.HK', '9959.HK', '9890.HK', '9880.HK', '9698.HK', '9669.HK', '9660.HK', '9636.HK', '9600.HK', '8645.HK', '8637.HK', '8635.HK', '8611.HK', '8606.HK', '8529.HK', '8487.HK', '8420.HK', '8379.HK', '8353.HK', '8319.HK', '8311.HK', '8290.HK', '8286.HK', '8282.HK', '8267.HK', '8257.HK', '8245.HK', '8229.HK', '8227.HK', '8205.HK', '8198.HK', '8178.HK', '8167.HK', '8159.HK', '8148.HK', '8131.HK', '8106.HK', '8100.HK', '8092.HK', '8083.HK', '8076.HK', '8071.HK', '8066.HK', '8062.HK', '8060.HK', '8051.HK', '8050.HK', '8043.HK', '8036.HK', '8033.HK', '8018.HK', '8017.HK', '6939.HK', '6933.HK', '6908.HK', '6899.HK', '6869.HK', '6860.HK', '6820.HK', '6682.HK', '6657.HK', '6638.HK', '6633.HK', '6610.HK', '6608.HK', '6188.HK', '6133.HK', '6088.HK', '6069.HK', '6033.HK', '3997.HK', '3991.HK', '3969.HK', '3896.HK', '3888.HK', '3798.HK', '3738.HK', '3680.HK', '3638.HK', '3601.HK', '3396.HK', '3336.HK', '3315.HK', '2981.HK', '2878.HK', '2708.HK', '2660.HK', '2577.HK', '2576.HK', '2571.HK', '2567.HK', '2556.HK', '2533.HK', '2531.HK', '2512.HK', '2501.HK', '2498.HK', '2495.HK', '2479.HK', '2458.HK', '2440.HK', '2438.HK', '2436.HK', '2432.HK', '2431.HK', '2416.HK', '2400.HK', '2392.HK', '2391.HK', '2369.HK', '2363.HK', '2361.HK', '2350.HK', '2342.HK', '2280.HK', '2239.HK', '2203.HK', '2167.HK', '2166.HK', '2149.HK', '2121.HK', '2100.HK', '2086.HK', '2038.HK', '2028.HK', '2022.HK', '2013.HK', '2000.HK', '1985.HK', '1980.HK', '1961.HK', '1949.HK', '1933.HK', '1912.HK', '1909.HK', '1810.HK', '1808.HK', '1782.HK', '1745.HK', '1729.HK', '1720.HK', '1708.HK', '1686.HK', '1679.HK', '1675.HK', '1632.HK', '1617.HK', '1613.HK', '1588.HK', '1561.HK', '1523.HK', '1522.HK', '1473.HK', '1460.HK', '1410.HK', '1402.HK', '1385.HK', '1362.HK', '1347.HK', '1335.HK', '1300.HK', '1274.HK', '1263.HK', '1206.HK', '1204.HK', '1202.HK', '1147.HK', '1119.HK', '1094.HK', '1087.HK', '1085.HK', '1079.HK', '1075.HK', '1063.HK', '1059.HK', '1050.HK', '1037.HK', '1022.HK', '1020.HK', '1013.HK', '0992.HK', '0981.HK', '0947.HK', '0909.HK', '0861.HK', '0856.HK', '0802.HK', '0799.HK', '0797.HK', '0777.HK', '0776.HK', '0771.HK', '0763.HK', '0724.HK', '0700.HK', '0696.HK', '0650.HK', '0596.HK', '0595.HK', '0553.HK', '0552.HK', '0536.HK', '0529.HK', '0522.HK', '0484.HK', '0465.HK', '0439.HK', '0434.HK', '0419.HK', '0418.HK', '0400.HK', '0354.HK', '0334.HK', '0328.HK', '0327.HK', '0318.HK', '0303.HK', '0302.HK', '0285.HK', '0268.HK', '0248.HK', '0243.HK', '0110.HK', '0085.HK', '0082.HK', '0046.HK', '0020.HK']\n"
          ]
        }
      ],
      "source": [
        "import pandas as pd\n",
        "\n",
        "# 资讯科技业所有股票代码\n",
        "\n",
        "# 本地文件路径（替换为你的实际路径）\n",
        "file_path = r\"/content/资讯科技业-行情报价.xlsx\"\n",
        "\n",
        "# 读取Excel文件\n",
        "df = pd.read_excel(file_path, engine='openpyxl')  # 确保已安装openpyxl\n",
        "\n",
        "# 提取“代码”列并转为列表，补齐三位数代码为四位数\n",
        "code_list_zixun = df[\"代码\"].dropna().astype(int).astype(str).str.zfill(4) + '.HK'\n",
        "\n",
        "# 转换为列表\n",
        "code_list_zixun = code_list_zixun.tolist()\n",
        "\n",
        "print(code_list_zixun)  # 输出结果示例：['600000', '000001', ...]"
      ]
    },
    {
      "cell_type": "code",
      "source": [
        "import yfinance as yf"
      ],
      "metadata": {
        "id": "5m9PlXQVsUNQ"
      },
      "execution_count": 3,
      "outputs": []
    },
    {
      "cell_type": "code",
      "source": [
        "# 获取过去30天的成交量数据\n",
        "data = yf.download(code_list_zixun, period='30d', progress=False)\n",
        "volume = data['Volume']\n",
        "volume_mean=volume.mean()\n",
        "print(volume_mean)\n",
        "#print(volume)"
      ],
      "metadata": {
        "colab": {
          "base_uri": "https://localhost:8080/"
        },
        "id": "emkUH8RWsmpN",
        "outputId": "b52786af-2c81-4e52-ad0d-d0776595379c"
      },
      "execution_count": 5,
      "outputs": [
        {
          "output_type": "stream",
          "name": "stdout",
          "text": [
            "Ticker\n",
            "0020.HK    2.370948e+08\n",
            "0046.HK    2.053333e+04\n",
            "0082.HK    1.756527e+06\n",
            "0085.HK    2.776825e+06\n",
            "0110.HK    2.034393e+04\n",
            "               ...     \n",
            "9890.HK    4.049104e+06\n",
            "9959.HK    1.210641e+07\n",
            "9963.HK    9.448276e+03\n",
            "9990.HK    3.177000e+05\n",
            "9999.HK    7.294401e+06\n",
            "Length: 233, dtype: float64\n"
          ]
        }
      ]
    },
    {
      "cell_type": "code",
      "source": [
        "# 计算每只股票的平均成交量并排序\n",
        "sorted_volume = volume_mean.sort_values(ascending=False)\n",
        "\n",
        "# 计算前70%的股票数量\n",
        "top_70_percent_count = int(len(sorted_volume) * 0.7)\n",
        "\n",
        "# 获取成交量排名前70%的股票代码\n",
        "top_70_percent_codes = sorted_volume.head(top_70_percent_count).index.tolist()\n",
        "\n",
        "# 打印结果\n",
        "print(f\"成交量排名前70%的股票共有 {len(top_70_percent_codes)} 只:\")\n",
        "print(top_70_percent_codes)\n",
        "\n",
        "# 将结果存储在名为 top_70_volume_codes 的新变量中\n",
        "top_70_volume_codes = top_70_percent_codes"
      ],
      "metadata": {
        "colab": {
          "base_uri": "https://localhost:8080/"
        },
        "id": "UZ4zQ8wssxuj",
        "outputId": "6236143c-d0f3-4423-f9a2-71e772ff9c71"
      },
      "execution_count": 6,
      "outputs": [
        {
          "output_type": "stream",
          "name": "stdout",
          "text": [
            "成交量排名前70%的股票共有 163 只:\n",
            "['0020.HK', '9660.HK', '1810.HK', '3896.HK', '2013.HK', '0992.HK', '0981.HK', '8083.HK', '6088.HK', '0268.HK', '3738.HK', '2369.HK', '0354.HK', '1347.HK', '0700.HK', '0285.HK', '0553.HK', '9959.HK', '2498.HK', '1686.HK', '0434.HK', '6869.HK', '1119.HK', '6069.HK', '0552.HK', '0763.HK', '9880.HK', '3888.HK', '9698.HK', '0856.HK', '2981.HK', '0909.HK', '0861.HK', '9999.HK', '0419.HK', '2533.HK', '0302.HK', '2342.HK', '8018.HK', '1675.HK', '1385.HK', '6610.HK', '3969.HK', '1745.HK', '1274.HK', '8071.HK', '2438.HK', '0776.HK', '6682.HK', '1079.HK', '0596.HK', '8017.HK', '2432.HK', '9890.HK', '0696.HK', '2038.HK', '0327.HK', '6820.HK', '0328.HK', '1729.HK', '2121.HK', '2878.HK', '0085.HK', '0799.HK', '9636.HK', '1263.HK', '0650.HK', '2556.HK', '2350.HK', '1980.HK', '2400.HK', '3396.HK', '2100.HK', '1147.HK', '8611.HK', '2577.HK', '0082.HK', '1985.HK', '0777.HK', '0522.HK', '8635.HK', '6608.HK', '3680.HK', '1522.HK', '6638.HK', '2022.HK', '1523.HK', '1050.HK', '6908.HK', '9669.HK', '8267.HK', '1720.HK', '0536.HK', '1949.HK', '2567.HK', '2431.HK', '9600.HK', '2440.HK', '1087.HK', '8198.HK', '1460.HK', '0303.HK', '8092.HK', '2512.HK', '3991.HK', '1473.HK', '1617.HK', '80020.HK', '1022.HK', '0418.HK', '2166.HK', '0400.HK', '1300.HK', '6860.HK', '2203.HK', '3638.HK', '1782.HK', '8311.HK', '8353.HK', '8066.HK', '0439.HK', '9990.HK', '8033.HK', '1679.HK', '1063.HK', '8529.HK', '1613.HK', '1561.HK', '3336.HK', '1912.HK', '8319.HK', '2531.HK', '2660.HK', '2149.HK', '8645.HK', '80992.HK', '1059.HK', '2416.HK', '8050.HK', '1335.HK', '3601.HK', '3315.HK', '8036.HK', '8076.HK', '8379.HK', '81810.HK', '0947.HK', '0334.HK', '6133.HK', '8420.HK', '2392.HK', '1202.HK', '2280.HK', '1961.HK', '1206.HK', '8487.HK', '8131.HK', '0771.HK', '8606.HK', '8062.HK', '2000.HK', '2391.HK', '0595.HK']\n"
          ]
        }
      ]
    },
    {
      "cell_type": "code",
      "source": [
        "\n",
        "\n",
        "# 2. 批量获取估值数据\n",
        "valuation_data = []\n",
        "for code in top_70_volume_codes:\n",
        "    try:\n",
        "        stock = yf.Ticker(code)\n",
        "        info = stock.info\n",
        "        valuation_data.append({\n",
        "            'Code': code,\n",
        "            'PE': info.get('trailingPE'),\n",
        "            'PB': info.get('priceToBook'),\n",
        "            'PS': info.get('priceToSalesTrailing12Months'),\n",
        "            'DividendYield': info.get('dividendYield')\n",
        "        })\n",
        "    except:\n",
        "        print(f\"无法获取 {code} 的数据\")\n",
        "\n",
        "valuation_df = pd.DataFrame(valuation_data)\n",
        "\n",
        "# 3. 将估值列转换为数值类型（float），并处理可能的缺失值\n",
        "valuation_df['PE'] = pd.to_numeric(valuation_df['PE'], errors='coerce')  # 转换失败则设为NaN\n",
        "valuation_df['PB'] = pd.to_numeric(valuation_df['PB'], errors='coerce')\n",
        "valuation_df['PS'] = pd.to_numeric(valuation_df['PS'], errors='coerce')\n",
        "valuation_df['DividendYield'] = pd.to_numeric(valuation_df['DividendYield'], errors='coerce')\n",
        "\n",
        "# 4. 去除缺失值（可选）\n",
        "valuation_df = valuation_df.dropna()\n",
        "\n",
        "# 5. 设定筛选条件\n",
        "low_pe = valuation_df['PE'] < 40\n",
        "low_pb = valuation_df['PB'] < 8\n",
        "high_dividend = valuation_df['DividendYield'] > 0.03  # 股息率>3%\n",
        "\n",
        "# 6. 筛选低估值+高股息股票\n",
        "selected_stocks = valuation_df[low_pe & low_pb & high_dividend]\n",
        "print(\"最终筛选结果：\")\n",
        "print(selected_stocks)"
      ],
      "metadata": {
        "colab": {
          "base_uri": "https://localhost:8080/"
        },
        "id": "eXKOXClItpVp",
        "outputId": "3f1e20ef-f1a2-4157-9c46-bf9cebe71f12"
      },
      "execution_count": 17,
      "outputs": [
        {
          "output_type": "stream",
          "name": "stdout",
          "text": [
            "最终筛选结果：\n",
            "        Code         PE        PB         PS  DividendYield\n",
            "12   0354.HK  23.523811  1.078367   0.726318           1.07\n",
            "14   0700.HK  22.939068  4.481008   6.842039           0.89\n",
            "15   0285.HK  15.266991  2.187065   0.399667           1.94\n",
            "19   1686.HK  29.458334  5.571316   5.841163           1.64\n",
            "20   0434.HK   3.978572  1.511533   7.756388           1.81\n",
            "21   6869.HK  16.969070  1.060089   1.621445           3.50\n",
            "23   6069.HK  28.476190  2.902208  13.096776           3.12\n",
            "24   0552.HK   7.912281  0.687500   0.208242           5.28\n",
            "25   0763.HK  12.054053  1.475746   1.269801           3.08\n",
            "27   3888.HK  26.611570  1.913933   4.262610           0.47\n",
            "29   0856.HK   8.171053  1.029168   0.099739           4.13\n",
            "33   9999.HK  18.234217  4.397811   5.882072           2.15\n",
            "39   1675.HK  14.421875  1.291812   1.299016           2.74\n",
            "42   3969.HK   9.285714  0.746269   1.681981           5.82\n",
            "50   0596.HK  23.486485  3.950000   1.210038           0.94\n",
            "54   0696.HK  14.441559  1.458935   3.688016           2.34\n",
            "56   0327.HK   7.924242  0.737139   0.916744           9.73\n",
            "59   1729.HK  25.652174  6.512141   1.557847           0.48\n",
            "62   0085.HK   5.103448  1.229236   1.278939           6.12\n",
            "63   0799.HK   7.080000  1.296703   0.702538           3.62\n",
            "65   1263.HK   9.823529  0.905272   0.257000           4.52\n",
            "69   1980.HK  30.500002  0.289237  67.111404           6.90\n",
            "70   2400.HK  20.081522  7.052873   3.581339           1.06\n",
            "77   1985.HK  11.750000  1.991525   0.290420           3.28\n",
            "78   0777.HK  15.468750  0.902626   0.869771          10.18\n",
            "83   1522.HK   3.687500  0.222810   0.373412           8.14\n",
            "87   1050.HK   8.299999  1.646825   0.558644           6.10\n",
            "92   0536.HK   9.400000  1.970650   3.016480          10.98\n",
            "100  1460.HK   8.000000  0.367534   0.198072           4.05\n",
            "104  3991.HK   5.933333  0.767903   0.032377           5.49\n",
            "110  2166.HK   8.095239  0.825243   0.178738           9.88\n",
            "122  8033.HK   5.800000  0.324022   0.118171           8.62\n",
            "130  8319.HK   5.450000  0.511737   0.096160           7.52\n",
            "132  2660.HK   4.978261  0.901575   1.426084           6.58\n",
            "140  3601.HK   6.714286  0.374055   0.192278          10.64\n",
            "141  3315.HK  12.142858  0.340818   0.619015           6.55\n",
            "157  0771.HK   4.111111  0.270963   0.259984           4.05\n",
            "159  8062.HK   5.750000  1.173469   1.340066           8.57\n",
            "162  0595.HK   2.800000  0.217955   0.315963           7.32\n"
          ]
        }
      ]
    },
    {
      "cell_type": "code",
      "source": [
        "import yfinance as yf\n",
        "import pandas as pd\n",
        "\n",
        "# 1. 批量获取估值数据（增加关键科技股指标）\n",
        "valuation_data = []\n",
        "for code in top_70_volume_codes:\n",
        "    try:\n",
        "        stock = yf.Ticker(code)\n",
        "        info = stock.info\n",
        "\n",
        "        # 获取核心估值指标+科技行业特有指标\n",
        "        valuation_data.append({\n",
        "            'Code': code,\n",
        "            'PE': info.get('trailingPE'),\n",
        "            'PB': info.get('priceToBook'),\n",
        "            'PS': info.get('priceToSalesTrailing12Months'),\n",
        "            'DividendYield': info.get('dividendYield'),\n",
        "            'RevenueGrowth': info.get('revenueGrowth'),  # 营收增长率（科技股关键指标）\n",
        "            'GrossMargins': info.get('grossMargins')     # 毛利率（反映盈利能力）\n",
        "        })\n",
        "    except Exception as e:\n",
        "        print(f\"获取 {code} 数据失败: {str(e)}\")\n",
        "\n",
        "valuation_df = pd.DataFrame(valuation_data)\n",
        "\n",
        "# 2. 数据类型转换（处理科技股常见负PE情况）\n",
        "numeric_cols = ['PE', 'PB', 'PS', 'DividendYield', 'RevenueGrowth', 'GrossMargins']\n",
        "valuation_df[numeric_cols] = valuation_df[numeric_cols].apply(pd.to_numeric, errors='coerce')\n",
        "\n",
        "# 3. 设定资讯科技行业专用阈值\n",
        "tech_conditions = (\n",
        "    (valuation_df['PE'] < 40) | (valuation_df['PE'].isna()),  # 允许暂未盈利（PE为NaN）\n",
        "    (valuation_df['PB'] < 8),                                 # 科技股PB通常较高\n",
        "    (valuation_df['PS'] < 10),                                # 市销率阈值\n",
        "    (valuation_df['RevenueGrowth'] > 0.15)                    # 营收增长>15%\n",
        ")\n",
        "\n",
        "# 4. 复合筛选条件（优先增长性而非股息）\n",
        "selected_stocks = valuation_df[\n",
        "    tech_conditions[0] &\n",
        "    tech_conditions[1] &\n",
        "    tech_conditions[2] &\n",
        "    tech_conditions[3]\n",
        "].sort_values('PS')  # 按市销率升序排列（PS越低可能越低估）\n",
        "\n",
        "# 5. 结果输出（突出科技股关键指标）\n",
        "print(\"港股资讯科技板块筛选结果（按估值升序）：\")\n",
        "print(selected_stocks[['Code', 'PE', 'PB', 'PS', 'RevenueGrowth', 'GrossMargins']].to_string(index=False))\n",
        "\n",
        "# 可选：保存结果到CSV\n",
        "selected_stocks.to_csv('hk_tech_undervalued_stocks.csv', index=False)"
      ],
      "metadata": {
        "colab": {
          "base_uri": "https://localhost:8080/"
        },
        "id": "4iEVjNsGz--o",
        "outputId": "38ac2281-2546-49a5-a07a-8e6e803e9664"
      },
      "execution_count": 9,
      "outputs": [
        {
          "output_type": "stream",
          "name": "stdout",
          "text": [
            "港股资讯科技板块筛选结果（按估值升序）：\n",
            "   Code        PE        PB       PS  RevenueGrowth  GrossMargins\n",
            "3396.HK       NaN  0.351835 0.036645          0.190       0.18093\n",
            "1473.HK       NaN  0.651064 0.084363          0.701       0.08882\n",
            "0334.HK  6.900000  0.405088 0.095410          1.006       0.04315\n",
            "0856.HK  8.105263  1.020882 0.098936          0.229       0.04410\n",
            "0400.HK  8.733333  0.474982 0.212652          0.162       0.08781\n",
            "6133.HK       NaN  0.599647 0.271786          0.174       0.00560\n",
            "1985.HK 11.750000  1.991525 0.290420          0.446       0.10625\n",
            "1679.HK       NaN -0.351090 0.303200          0.353       0.30331\n",
            "0595.HK  2.800000  0.217955 0.315963          0.551       0.02954\n",
            "0285.HK 15.194175  2.176634 0.397761          0.338       0.06938\n",
            "8487.HK       NaN  1.356164 0.422328          0.258       0.27679\n",
            "2369.HK       NaN  0.154545 0.557699          0.818       0.14483\n",
            "8267.HK       NaN  0.431818 0.718066          0.624       0.14677\n",
            "9600.HK       NaN  0.336294 0.891372          0.222       0.13940\n",
            "9990.HK       NaN  0.599621 1.105213          0.386       0.72388\n",
            "1613.HK       NaN  1.130742 1.181101          3.445       0.20225\n",
            "2567.HK       NaN  4.220184 1.278286          0.264       0.19751\n",
            "1022.HK       NaN  0.773234 1.314855          0.479       0.85707\n",
            "6820.HK       NaN  1.444241 1.427833          0.461       0.69963\n",
            "8379.HK       NaN  6.368421 1.486715          0.323       0.44678\n",
            "6869.HK 17.010310  1.062665 1.625385          0.212       0.26230\n",
            "8645.HK       NaN  6.333333 3.402477          0.247       0.14164\n",
            "2400.HK 20.054348  7.043329 3.576493          0.706       0.69403\n",
            "9959.HK       NaN  0.438398 3.605178          0.296       0.69559\n",
            "0696.HK 14.415586  1.456311 3.681383          0.301       0.51152\n",
            "6682.HK       NaN  3.926437 4.003864          0.241       0.42672\n"
          ]
        }
      ]
    },
    {
      "cell_type": "code",
      "source": [
        "#指标\n",
        "#市盈率（PE）\t< 40 或 NaN   适应科技股高估值特性，允许未盈利公司（PE为NaN）参与筛选\n",
        "#市净率（PB）\t< 8\t          科技股常有无形资产（如专利），PB阈值高于传统行业\n",
        "#市销率（PS）\t< 10\t        排除营收估值过高的公司，适合轻资产科技企业\n",
        "#营收增长率\t> 15%\t          确保业务处于高增长阶段（核心成长性指标）\n",
        "#股息率\t> 3%\t             可选条件，兼顾部分成熟科技股的现金回报能力\n"
      ],
      "metadata": {
        "id": "8nK318NYF3RP"
      },
      "execution_count": null,
      "outputs": []
    },
    {
      "cell_type": "code",
      "source": [
        "import yfinance as yf\n",
        "import pandas as pd\n",
        "\n",
        "# 1. 批量获取估值数据（增加PS和RevenueGrowth）\n",
        "valuation_data = []\n",
        "for code in top_70_volume_codes:\n",
        "    try:\n",
        "        stock = yf.Ticker(code)\n",
        "        info = stock.info\n",
        "        valuation_data.append({\n",
        "            'Code': code,\n",
        "            'PE': info.get('trailingPE'),\n",
        "            'PB': info.get('priceToBook'),\n",
        "            'PS': info.get('priceToSalesTrailing12Months'),\n",
        "            'DividendYield': info.get('dividendYield'),\n",
        "            'RevenueGrowth': info.get('revenueGrowth')  # 新增营收增长率\n",
        "        })\n",
        "    except Exception as e:\n",
        "        print(f\"获取 {code} 数据失败: {str(e)}\")\n",
        "\n",
        "valuation_df = pd.DataFrame(valuation_data)\n",
        "\n",
        "# 2. 数据类型转换（处理科技股常见负值/缺失值）\n",
        "numeric_cols = ['PE', 'PB', 'PS', 'DividendYield', 'RevenueGrowth']\n",
        "valuation_df[numeric_cols] = valuation_df[numeric_cols].apply(pd.to_numeric, errors='coerce')\n",
        "\n",
        "# 3. 去除关键指标缺失的数据\n",
        "valuation_df = valuation_df.dropna(subset=['PS', 'RevenueGrowth'])\n",
        "\n",
        "# 4. 设定筛选条件（科技股专用逻辑）\n",
        "tech_criteria = (\n",
        "    (valuation_df['PE'] < 40) | (valuation_df['PE'].isna()),  # 允许未盈利（PE为NaN）\n",
        "    (valuation_df['PB'] < 8),                                 # 科技股PB较高\n",
        "    (valuation_df['PS'] < 10),                                # 市销率阈值\n",
        "    (valuation_df['RevenueGrowth'] > 0.15),                   # 营收增长>15%\n",
        "    (valuation_df['DividendYield'] > 0.03)                    # 股息率>3%（可选）\n",
        ")\n",
        "\n",
        "# 5. 复合筛选\n",
        "selected_stocks = valuation_df[\n",
        "    tech_criteria[0] &\n",
        "    tech_criteria[1] &\n",
        "    tech_criteria[2] &\n",
        "    tech_criteria[3] &\n",
        "    tech_criteria[4]\n",
        "].sort_values('PS', ascending=True)  # 按市销率升序排列\n",
        "\n",
        "# 6. 优化结果输出（隐藏无关列）\n",
        "print(\"符合条件股票（按PS从低到高排序）：\")\n",
        "cols_to_show = ['Code', 'PE', 'PB', 'PS', 'RevenueGrowth', 'DividendYield']\n",
        "print(selected_stocks[cols_to_show].to_string(index=False))\n",
        "\n",
        "# 可选：保存结果到CSV\n",
        "selected_stocks.to_csv('hk_tech_growth_stocks.csv', index=False)\n",
        "\n",
        "#PS < 10：排除市销率过高的公司\n",
        "\n",
        "#RevenueGrowth > 15%：确保业务处于高增长阶段\n",
        "\n",
        "#PE放宽至40：适应科技股高估值特性\n",
        "\n",
        "#允许PE为NaN：兼容未盈利但高增长公司\n",
        "# 6.5 提取股票代码列表\n",
        "selected_codes_guzhi = selected_stocks['Code'].tolist()\n",
        "print(\"\\n筛选出的股票代码列表：\")\n",
        "print(selected_codes_guzhi)\n"
      ],
      "metadata": {
        "colab": {
          "base_uri": "https://localhost:8080/"
        },
        "id": "GM8MgusU8ssS",
        "outputId": "eb1e1065-8fb6-48ad-cca5-6546bcb3ca71"
      },
      "execution_count": 35,
      "outputs": [
        {
          "output_type": "stream",
          "name": "stdout",
          "text": [
            "符合条件股票（按PS从低到高排序）：\n",
            "   Code        PE       PB       PS  RevenueGrowth  DividendYield\n",
            "0856.HK  8.171053 1.029168 0.099739          0.229           4.13\n",
            "1985.HK 11.750000 1.991525 0.290420          0.446           3.28\n",
            "0595.HK  2.800000 0.217955 0.315963          0.551           7.32\n",
            "0285.HK 15.266991 2.187065 0.399667          0.338           1.94\n",
            "6869.HK 16.969070 1.060089 1.621445          0.212           3.50\n",
            "2400.HK 20.081522 7.052873 3.581339          0.706           1.06\n",
            "0696.HK 14.441559 1.458935 3.688016          0.301           2.34\n",
            "\n",
            "筛选出的股票代码列表：\n",
            "['0856.HK', '1985.HK', '0595.HK', '0285.HK', '6869.HK', '2400.HK', '0696.HK']\n"
          ]
        }
      ]
    },
    {
      "cell_type": "code",
      "source": [
        "import yfinance as yf\n",
        "import pandas as pd\n",
        "import numpy as np\n",
        "import datetime\n",
        "import matplotlib.pyplot as plt\n",
        "from sklearn.linear_model import LinearRegression\n",
        "import matplotlib.dates as mdates\n",
        "\n",
        "\n",
        "# 获取当前日期和半年前的日期\n",
        "end_date = datetime.datetime.now()\n",
        "start_date = end_date - datetime.timedelta(days=180)\n",
        "\n",
        "# 下载股票数据\n",
        "data = yf.download(selected_codes_guzhi, start=start_date, end=end_date)\n",
        "\n",
        "# 只选择收盘价\n",
        "close_prices = data['Close']\n",
        "\n",
        "# 计算季度环比增长率(QoQ)\n",
        "def calculate_qoq_growth(daily_prices):\n",
        "    if daily_prices.empty:\n",
        "        print(\"No data available for QoQ calculation\")\n",
        "        return pd.DataFrame()\n",
        "    # 将每日数据转为季度末数据\n",
        "    quarterly_prices = daily_prices.resample('Q').last()\n",
        "    # 计算季度环比增长率\n",
        "    qoq_growth = quarterly_prices.pct_change() * 100\n",
        "    return qoq_growth.dropna(how='all')\n",
        "\n",
        "# 计算增长率的斜率（线性回归）\n",
        "def calculate_growth_slope(growth_data):\n",
        "    slope_results = {}\n",
        "    if growth_data.empty:\n",
        "        print(\"No growth data available for slope calculation\")\n",
        "        return slope_results\n",
        "    for ticker in growth_data.columns:\n",
        "        valid_data = growth_data[ticker].dropna()\n",
        "        if len(valid_data) > 1:\n",
        "            X = np.arange(len(valid_data)).reshape(-1, 1)\n",
        "            y = valid_data.values.reshape(-1, 1)\n",
        "            model = LinearRegression()\n",
        "            model.fit(X, y)\n",
        "            slope_results[ticker] = model.coef_[0][0]\n",
        "        else:\n",
        "            slope_results[ticker] = np.nan\n",
        "            print(f\"Not enough data points for {ticker} to calculate slope\")\n",
        "    return slope_results\n",
        "\n",
        "# 绘制季度增长率图表\n",
        "def plot_growth_rates(growth_data):\n",
        "    if growth_data.empty:\n",
        "        print(\"No growth data available to plot\")\n",
        "        return\n",
        "    plt.figure(figsize=(14, 7))\n",
        "    for ticker in growth_data.columns:\n",
        "        if growth_data[ticker].count() > 0:\n",
        "            plt.plot(growth_data.index, growth_data[ticker], marker='o', linestyle='-', label=ticker)\n",
        "    plt.title('Quarterly QoQ Growth Rates of Closing Prices', fontsize=14)\n",
        "    plt.xlabel('Quarter', fontsize=12)\n",
        "    plt.ylabel('Growth Rate (%)', fontsize=12)\n",
        "    ax = plt.gca()\n",
        "    ax.xaxis.set_major_formatter(mdates.DateFormatter('%Y-%m'))\n",
        "    ax.xaxis.set_major_locator(mdates.QuarterLocator())\n",
        "    plt.legend()\n",
        "    plt.grid(True, linestyle='--', alpha=0.7)\n",
        "    plt.xticks(rotation=45)\n",
        "    plt.tight_layout()\n",
        "    plt.show()\n",
        "\n",
        "# 绘制斜率图表\n",
        "def plot_slopes(slope_data):\n",
        "    valid_slopes = {k: v for k, v in slope_data.items() if not np.isnan(v)}\n",
        "    if not valid_slopes:\n",
        "        print(\"No valid slope data to plot\")\n",
        "        return\n",
        "    plt.figure(figsize=(10, 6))\n",
        "    bars = plt.bar(valid_slopes.keys(), valid_slopes.values(), color='skyblue')\n",
        "    for bar in bars:\n",
        "        height = bar.get_height()\n",
        "        plt.text(bar.get_x() + bar.get_width()/2., height, f'{height:.4f}', ha='center', va='bottom', fontsize=10)\n",
        "    plt.title('Slopes of QoQ Growth Rates (Linear Regression)', fontsize=14)\n",
        "    plt.xlabel('Stock Ticker', fontsize=12)\n",
        "    plt.ylabel('Slope Coefficient', fontsize=12)\n",
        "    plt.grid(True, axis='y', linestyle='--', alpha=0.7)\n",
        "    plt.tight_layout()\n",
        "    plt.show()\n",
        "\n",
        "# 主程序\n",
        "def main(close_prices):\n",
        "    daily_prices = close_prices\n",
        "    if daily_prices.empty:\n",
        "        print(\"No data fetched. Please check your tickers and internet connection.\")\n",
        "        return\n",
        "    print(\"\\nFirst few rows of closing price data:\")\n",
        "    print(daily_prices.head())\n",
        "    print(\"\\nCalculating quarterly QoQ growth rates...\")\n",
        "    growth_rates = calculate_qoq_growth(daily_prices)\n",
        "    if growth_rates.empty:\n",
        "        print(\"No growth rates calculated. Check input data.\")\n",
        "        return\n",
        "    print(\"\\nQuarterly growth rates:\")\n",
        "    print(growth_rates)\n",
        "    print(\"\\nCalculating growth rate slopes...\")\n",
        "    slopes = calculate_growth_slope(growth_rates)\n",
        "    print(\"\\nGrowth Rate Slopes:\")\n",
        "    for ticker, slope in slopes.items():\n",
        "        print(f\"{ticker}: {slope:.6f}\")\n",
        "    print(\"\\nPlotting charts...\")\n",
        "    plot_growth_rates(growth_rates)\n",
        "    plot_slopes(slopes)\n",
        "\n",
        "if __name__ == \"__main__\":\n",
        "    main(close_prices)"
      ],
      "metadata": {
        "colab": {
          "base_uri": "https://localhost:8080/",
          "height": 1000
        },
        "id": "YLvPG78gJrLK",
        "outputId": "7a4c3f1a-869c-4af6-e250-46123613cfa8"
      },
      "execution_count": 36,
      "outputs": [
        {
          "output_type": "stream",
          "name": "stderr",
          "text": [
            "[*********************100%***********************]  7 of 7 completed"
          ]
        },
        {
          "output_type": "stream",
          "name": "stdout",
          "text": [
            "\n",
            "First few rows of closing price data:\n",
            "Ticker        0285.HK  0595.HK  0696.HK   0856.HK  1985.HK    2400.HK  6869.HK\n",
            "Date                                                                          \n",
            "2024-12-06  39.299999    0.450    11.06  5.159620     1.21  25.427320    11.32\n",
            "2024-12-09  42.950001    0.465    11.16  5.371002     1.20  25.575729    11.68\n",
            "2024-12-10  41.349998    0.460    10.76  5.188445     1.22  24.586340    11.46\n",
            "2024-12-11  41.750000    0.465    10.66  5.274919     1.22  24.240053    11.44\n",
            "2024-12-12  41.700001    0.460    10.68  5.159620     1.22  24.091644    11.48\n",
            "\n",
            "Calculating quarterly QoQ growth rates...\n",
            "\n",
            "Quarterly growth rates:\n",
            "Ticker        0285.HK   0595.HK    0696.HK    0856.HK   1985.HK    2400.HK  \\\n",
            "Date                                                                         \n",
            "2025-03-31  -4.161712 -6.451613  10.940502  28.076928  6.504059  29.199998   \n",
            "2025-06-30 -21.960294 -5.747128  -3.806233  -2.798564  7.633590  16.718271   \n",
            "\n",
            "Ticker        6869.HK  \n",
            "Date                   \n",
            "2025-03-31  29.296234  \n",
            "2025-06-30   2.025321  \n",
            "\n",
            "Calculating growth rate slopes...\n",
            "\n",
            "Growth Rate Slopes:\n",
            "0285.HK: -17.798582\n",
            "0595.HK: 0.704485\n",
            "0696.HK: -14.746735\n",
            "0856.HK: -30.875492\n",
            "1985.HK: 1.129531\n",
            "2400.HK: -12.481727\n",
            "6869.HK: -27.270914\n",
            "\n",
            "Plotting charts...\n"
          ]
        },
        {
          "output_type": "stream",
          "name": "stderr",
          "text": [
            "\n",
            "<ipython-input-36-b51f79529e27>:26: FutureWarning: 'Q' is deprecated and will be removed in a future version, please use 'QE' instead.\n",
            "  quarterly_prices = daily_prices.resample('Q').last()\n"
          ]
        },
        {
          "output_type": "error",
          "ename": "AttributeError",
          "evalue": "module 'matplotlib.dates' has no attribute 'QuarterLocator'",
          "traceback": [
            "\u001b[0;31m---------------------------------------------------------------------------\u001b[0m",
            "\u001b[0;31mAttributeError\u001b[0m                            Traceback (most recent call last)",
            "\u001b[0;32m<ipython-input-36-b51f79529e27>\u001b[0m in \u001b[0;36m<cell line: 0>\u001b[0;34m()\u001b[0m\n\u001b[1;32m    112\u001b[0m \u001b[0;34m\u001b[0m\u001b[0m\n\u001b[1;32m    113\u001b[0m \u001b[0;32mif\u001b[0m \u001b[0m__name__\u001b[0m \u001b[0;34m==\u001b[0m \u001b[0;34m\"__main__\"\u001b[0m\u001b[0;34m:\u001b[0m\u001b[0;34m\u001b[0m\u001b[0;34m\u001b[0m\u001b[0m\n\u001b[0;32m--> 114\u001b[0;31m     \u001b[0mmain\u001b[0m\u001b[0;34m(\u001b[0m\u001b[0mclose_prices\u001b[0m\u001b[0;34m)\u001b[0m\u001b[0;34m\u001b[0m\u001b[0;34m\u001b[0m\u001b[0m\n\u001b[0m",
            "\u001b[0;32m<ipython-input-36-b51f79529e27>\u001b[0m in \u001b[0;36mmain\u001b[0;34m(close_prices)\u001b[0m\n\u001b[1;32m    108\u001b[0m         \u001b[0mprint\u001b[0m\u001b[0;34m(\u001b[0m\u001b[0;34mf\"{ticker}: {slope:.6f}\"\u001b[0m\u001b[0;34m)\u001b[0m\u001b[0;34m\u001b[0m\u001b[0;34m\u001b[0m\u001b[0m\n\u001b[1;32m    109\u001b[0m     \u001b[0mprint\u001b[0m\u001b[0;34m(\u001b[0m\u001b[0;34m\"\\nPlotting charts...\"\u001b[0m\u001b[0;34m)\u001b[0m\u001b[0;34m\u001b[0m\u001b[0;34m\u001b[0m\u001b[0m\n\u001b[0;32m--> 110\u001b[0;31m     \u001b[0mplot_growth_rates\u001b[0m\u001b[0;34m(\u001b[0m\u001b[0mgrowth_rates\u001b[0m\u001b[0;34m)\u001b[0m\u001b[0;34m\u001b[0m\u001b[0;34m\u001b[0m\u001b[0m\n\u001b[0m\u001b[1;32m    111\u001b[0m     \u001b[0mplot_slopes\u001b[0m\u001b[0;34m(\u001b[0m\u001b[0mslopes\u001b[0m\u001b[0;34m)\u001b[0m\u001b[0;34m\u001b[0m\u001b[0;34m\u001b[0m\u001b[0m\n\u001b[1;32m    112\u001b[0m \u001b[0;34m\u001b[0m\u001b[0m\n",
            "\u001b[0;32m<ipython-input-36-b51f79529e27>\u001b[0m in \u001b[0;36mplot_growth_rates\u001b[0;34m(growth_data)\u001b[0m\n\u001b[1;32m     62\u001b[0m     \u001b[0max\u001b[0m \u001b[0;34m=\u001b[0m \u001b[0mplt\u001b[0m\u001b[0;34m.\u001b[0m\u001b[0mgca\u001b[0m\u001b[0;34m(\u001b[0m\u001b[0;34m)\u001b[0m\u001b[0;34m\u001b[0m\u001b[0;34m\u001b[0m\u001b[0m\n\u001b[1;32m     63\u001b[0m     \u001b[0max\u001b[0m\u001b[0;34m.\u001b[0m\u001b[0mxaxis\u001b[0m\u001b[0;34m.\u001b[0m\u001b[0mset_major_formatter\u001b[0m\u001b[0;34m(\u001b[0m\u001b[0mmdates\u001b[0m\u001b[0;34m.\u001b[0m\u001b[0mDateFormatter\u001b[0m\u001b[0;34m(\u001b[0m\u001b[0;34m'%Y-%m'\u001b[0m\u001b[0;34m)\u001b[0m\u001b[0;34m)\u001b[0m\u001b[0;34m\u001b[0m\u001b[0;34m\u001b[0m\u001b[0m\n\u001b[0;32m---> 64\u001b[0;31m     \u001b[0max\u001b[0m\u001b[0;34m.\u001b[0m\u001b[0mxaxis\u001b[0m\u001b[0;34m.\u001b[0m\u001b[0mset_major_locator\u001b[0m\u001b[0;34m(\u001b[0m\u001b[0mmdates\u001b[0m\u001b[0;34m.\u001b[0m\u001b[0mQuarterLocator\u001b[0m\u001b[0;34m(\u001b[0m\u001b[0;34m)\u001b[0m\u001b[0;34m)\u001b[0m\u001b[0;34m\u001b[0m\u001b[0;34m\u001b[0m\u001b[0m\n\u001b[0m\u001b[1;32m     65\u001b[0m     \u001b[0mplt\u001b[0m\u001b[0;34m.\u001b[0m\u001b[0mlegend\u001b[0m\u001b[0;34m(\u001b[0m\u001b[0;34m)\u001b[0m\u001b[0;34m\u001b[0m\u001b[0;34m\u001b[0m\u001b[0m\n\u001b[1;32m     66\u001b[0m     \u001b[0mplt\u001b[0m\u001b[0;34m.\u001b[0m\u001b[0mgrid\u001b[0m\u001b[0;34m(\u001b[0m\u001b[0;32mTrue\u001b[0m\u001b[0;34m,\u001b[0m \u001b[0mlinestyle\u001b[0m\u001b[0;34m=\u001b[0m\u001b[0;34m'--'\u001b[0m\u001b[0;34m,\u001b[0m \u001b[0malpha\u001b[0m\u001b[0;34m=\u001b[0m\u001b[0;36m0.7\u001b[0m\u001b[0;34m)\u001b[0m\u001b[0;34m\u001b[0m\u001b[0;34m\u001b[0m\u001b[0m\n",
            "\u001b[0;31mAttributeError\u001b[0m: module 'matplotlib.dates' has no attribute 'QuarterLocator'"
          ]
        },
        {
          "output_type": "display_data",
          "data": {
            "text/plain": [
              "<Figure size 1400x700 with 1 Axes>"
            ],
            "image/png": "[encoded data removed]"
          },
          "metadata": {}
        }
      ]
    },
    {
      "cell_type": "code",
      "source": [],
      "metadata": {
        "id": "v8lOvi6MPjwz"
      },
      "execution_count": null,
      "outputs": []
    }
  ]
}