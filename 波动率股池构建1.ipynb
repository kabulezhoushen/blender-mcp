{
  "nbformat": 4,
  "nbformat_minor": 0,
  "metadata": {
    "colab": {
      "provenance": [],
      "authorship_tag": "ABX9TyNYOBTyOeejaoark1nv1vZK",
      "include_colab_link": true
    },
    "kernelspec": {
      "name": "python3",
      "display_name": "Python 3"
    },
    "language_info": {
      "name": "python"
    }
  },
  "cells": [
    {
      "cell_type": "markdown",
      "metadata": {
        "id": "view-in-github",
        "colab_type": "text"
      },
      "source": [
        "<a href=\"https://colab.research.google.com/github/kabulezhoushen/blender-mcp/blob/main/%E6%B3%A2%E5%8A%A8%E7%8E%87%E8%82%A1%E6%B1%A0%E6%9E%84%E5%BB%BA1.ipynb\" target=\"_parent\"><img src=\"https://colab.research.google.com/assets/colab-badge.svg\" alt=\"Open In Colab\"/></a>"
      ]
    },
    {
      "cell_type": "code",
      "execution_count": 12,
      "metadata": {
        "id": "wUWMVVrmj-qg"
      },
      "outputs": [],
      "source": []
    },
    {
      "cell_type": "code",
      "source": [
        "#资讯科技业，金融业， 医疗保健业，非必需性消费，工业（备选）\n",
        "#医疗40-60 资讯科技业60-80 金融业50-70 非必需性消费50-70 工业（备选）30-40\n",
        "import pandas as pd\n",
        "import yfinance as yf\n",
        "import numpy as np\n",
        "\n",
        "# 1. 读取数据\n",
        "hsi_data = pd.read_csv('hsi all shares data 20250613.csv', encoding='gbk')\n",
        "stock_codes_df = pd.read_csv('stock_codes_full (1).csv')\n",
        "print(hsi_data)\n",
        "print(stock_codes_df)\n",
        "\n",
        "# 获取医疗保健业股票代码\n",
        "code_list_yiliao = stock_codes_df[\"医疗保健业\"].dropna().tolist()\n",
        "print(code_list_yiliao)\n",
        "\n",
        "# 获取过去30天的成交量数据\n",
        "data = yf.download(code_list_yiliao, period='30d', progress=False)\n",
        "volume = data['Volume']\n",
        "volume_mean = volume.mean()\n",
        "print(volume_mean)\n",
        "\n",
        "# 筛选出成交量排名前70%的股票代码\n",
        "volume_mean_sorted = volume_mean.sort_values(ascending=False)\n",
        "top_70_percent_count = int(len(volume_mean_sorted) * 0.7)\n",
        "top_70_percent_codes = volume_mean_sorted.head(top_70_percent_count).index.tolist()\n",
        "print(f\"成交量排名前70%的股票代码: {top_70_percent_codes}\")\n",
        "\n",
        "# 在hsi all shares data 20250613.csv中获取这些股票的估值数据\n",
        "filtered_data = hsi_data[hsi_data['WindCodes'].isin(top_70_percent_codes)].copy()\n",
        "\n",
        "# 过滤掉极端高/低PE（pe_ttm）的股票\n",
        "filtered_data = filtered_data[(filtered_data['PE_TTM'] > 0) & (filtered_data['PE_TTM'] < 100)]\n",
        "\n",
        "# 剔除市值过小的股票（如总市值>50亿港币，自由流通市值>10亿港币）\n",
        "filtered_data = filtered_data[(filtered_data['MKT_CAP'] > 5000000000) & (filtered_data['MKT_FREESHARES'] > 1000000000)]\n",
        "\n",
        "# 计算营业收入和净利润的同比增长率\n",
        "filtered_data['SALES_GROWTH'] = filtered_data['WGSD_SALES'] / filtered_data['WGSD_SALES'].shift(1) - 1\n",
        "filtered_data['NET_PROFIT_GROWTH'] = filtered_data['WGSD_NET_INC'] / filtered_data['WGSD_NET_INC'].shift(1) - 1\n",
        "\n",
        "# 筛选增长为正或高于行业/市场中位数的股票\n",
        "filtered_data = filtered_data[(filtered_data['SALES_GROWTH'] > 0) | (filtered_data['SALES_GROWTH'] > filtered_data['SALES_GROWTH'].median())]\n",
        "filtered_data = filtered_data[(filtered_data['NET_PROFIT_GROWTH'] > 0) | (filtered_data['NET_PROFIT_GROWTH'] > filtered_data['NET_PROFIT_GROWTH'].median())]\n",
        "\n",
        "# 筛选营业利润为正的公司，剔除亏损企业\n",
        "filtered_data = filtered_data[filtered_data['WGSD_EBIT_OPER'] > 0]\n",
        "\n",
        "# 计算每只股票的综合估值得分\n",
        "filtered_data['score'] = (filtered_data['PE_TTM'] + filtered_data['MKT_CAP'] + filtered_data['MKT_FREESHARES'] + filtered_data['WGSD_SALES']) / 4\n",
        "\n",
        "# 排序股票的综合估值得分\n",
        "sorted_data = filtered_data.sort_values(by='score', ascending=False)\n",
        "\n",
        "# 计算前15%的股票数量\n",
        "top_15_percent_count = int(len(sorted_data) * 0.15)\n",
        "\n",
        "# 获取综合估值得分排名前15%的股票代码\n",
        "top_15_percent_codes = sorted_data.head(top_15_percent_count)['WindCodes'].tolist()\n",
        "\n",
        "# 打印结果\n",
        "print(f\"综合估值得分排名前15%的股票共有 {len(top_15_percent_codes)} 只:\")\n",
        "print(top_15_percent_codes)\n",
        "\n",
        "# 将结果存储在名为 top_15_value_codes 的新变量中\n",
        "top_15_value_codes = top_15_percent_codes\n",
        "\n",
        "# 可选：保存结果到csv\n",
        "sorted_data.head(top_15_percent_count).to_csv('top_15_value_codes.csv', index=False, encoding='utf-8-sig')"
      ],
      "metadata": {
        "colab": {
          "base_uri": "https://localhost:8080/"
        },
        "id": "DDlzKoVAleJf",
        "outputId": "f89bc4e9-8589-4aff-a328-18f03cc5d91f"
      },
      "execution_count": 13,
      "outputs": [
        {
          "output_type": "stream",
          "name": "stdout",
          "text": [
            "      WindCodes     PE_TTM       MKT_CAP  MKT_FREESHARES    WGSD_SALES  \\\n",
            "0       0001.HK  10.545622  1.802036e+11    1.253513e+11  2.813510e+11   \n",
            "1       0002.HK  14.222312  1.669984e+11    5.102448e+10  9.096400e+10   \n",
            "2       0003.HK  22.052723  1.259541e+11    7.365045e+10  5.547280e+10   \n",
            "3       0004.HK -21.801683  7.028863e+10    2.213811e+10  1.211500e+10   \n",
            "4       0005.HK  10.606696  1.622476e+12    1.372409e+12  6.419200e+10   \n",
            "...         ...        ...           ...             ...           ...   \n",
            "2631    9996.HK -17.472189  4.274954e+09    1.810134e+09  6.154830e+08   \n",
            "2632    9997.HK  15.256829  9.579392e+09    2.796225e+09  1.008610e+09   \n",
            "2633    9998.HK   7.931432  1.520000e+08    3.800000e+07  1.359790e+08   \n",
            "2634    9999.HK  18.824600  6.602027e+11    3.668847e+11  1.052952e+11   \n",
            "2635  数据来源：Wind        NaN           NaN             NaN           NaN   \n",
            "\n",
            "      WGSD_EBIT_OPER  WGSD_NET_INC  \n",
            "0       2.477800e+10  1.708800e+10  \n",
            "1       1.490300e+10  1.174200e+10  \n",
            "2       8.177900e+09  5.711500e+09  \n",
            "3       3.761000e+09 -3.224000e+09  \n",
            "4       3.114900e+10  2.397900e+10  \n",
            "...              ...           ...  \n",
            "2631   -2.492390e+08 -2.265760e+08  \n",
            "2632    5.248870e+08  5.814380e+08  \n",
            "2633    1.610000e+05  1.571000e+06  \n",
            "2634    2.958399e+10  2.969761e+10  \n",
            "2635             NaN           NaN  \n",
            "\n",
            "[2636 rows x 7 columns]\n",
            "        公用事业     医疗保健业     原材料业     地产建筑业     必需性消费        工业       电讯业  \\\n",
            "0    9908.HK  86618.HK  9936.HK  80016.HK  80291.HK  80737.HK  80941.HK   \n",
            "1    8196.HK   9997.HK  9933.HK   9998.HK   9985.HK   9956.HK   8337.HK   \n",
            "2    8117.HK   9996.HK  9879.HK   9993.HK   9977.HK   9930.HK   8147.HK   \n",
            "3    8007.HK   9995.HK  9696.HK   9983.HK   9858.HK   9882.HK   6823.HK   \n",
            "4    6839.HK   9989.HK  8331.HK   9982.HK   9676.HK   9699.HK   2545.HK   \n",
            "..       ...       ...      ...       ...       ...       ...       ...   \n",
            "672      NaN       NaN      NaN       NaN       NaN       NaN       NaN   \n",
            "673      NaN       NaN      NaN       NaN       NaN       NaN       NaN   \n",
            "674      NaN       NaN      NaN       NaN       NaN       NaN       NaN   \n",
            "675      NaN       NaN      NaN       NaN       NaN       NaN       NaN   \n",
            "676      NaN       NaN      NaN       NaN       NaN       NaN       NaN   \n",
            "\n",
            "        综合企业       能源业     资讯科技业       金融业    非必需性消费  \n",
            "0    8313.HK  80883.HK  81810.HK  82388.HK  89988.HK  \n",
            "1    8095.HK   9689.HK  80992.HK  82318.HK  89888.HK  \n",
            "2    8048.HK   8631.HK  80700.HK  81299.HK  89618.HK  \n",
            "3    3686.HK   8536.HK  80020.HK  80388.HK  83690.HK  \n",
            "4    2327.HK   8347.HK   9999.HK  80011.HK  82333.HK  \n",
            "..       ...       ...       ...       ...       ...  \n",
            "672      NaN       NaN       NaN       NaN   0033.HK  \n",
            "673      NaN       NaN       NaN       NaN   0032.HK  \n",
            "674      NaN       NaN       NaN       NaN   0027.HK  \n",
            "675      NaN       NaN       NaN       NaN   0018.HK  \n",
            "676      NaN       NaN       NaN       NaN   0007.HK  \n",
            "\n",
            "[677 rows x 12 columns]\n",
            "['86618.HK', '9997.HK', '9996.HK', '9995.HK', '9989.HK', '9969.HK', '9966.HK', '9960.HK', '9955.HK', '9939.HK', '9926.HK', '9906.HK', '9886.HK', '9885.HK', '9877.HK', '9860.HK', '9688.HK', '9686.HK', '9606.HK', '8622.HK', '8603.HK', '8513.HK', '8437.HK', '8372.HK', '8357.HK', '8329.HK', '8307.HK', '8247.HK', '8225.HK', '8223.HK', '8161.HK', '8158.HK', '8143.HK', '8049.HK', '8037.HK', '6998.HK', '6996.HK', '6990.HK', '6978.HK', '6955.HK', '6929.HK', '6922.HK', '6896.HK', '6893.HK', '6877.HK', '6855.HK', '6833.HK', '6826.HK', '6821.HK', '6699.HK', '6681.HK', '6669.HK', '6667.HK', '6660.HK', '6639.HK', '6628.HK', '6622.HK', '6618.HK', '6609.HK', '6606.HK', '6185.HK', '6160.HK', '6127.HK', '6118.HK', '6108.HK', '6086.HK', '6078.HK', '3933.HK', '3886.HK', '3869.HK', '3839.HK', '3759.HK', '3737.HK', '3692.HK', '3689.HK', '3681.HK', '3613.HK', '3600.HK', '3390.HK', '3347.HK', '3332.HK', '3320.HK', '3309.HK', '2988.HK', '2898.HK', '2877.HK', '2700.HK', '2696.HK', '2666.HK', '2633.HK', '2629.HK', '2616.HK', '2607.HK', '2593.HK', '2587.HK', '2566.HK', '2565.HK', '2563.HK', '2561.HK', '2552.HK', '2522.HK', '2511.HK', '2509.HK', '2506.HK', '2500.HK', '2496.HK', '2487.HK', '2480.HK', '2453.HK', '2427.HK', '2415.HK', '2410.HK', '2407.HK', '2393.HK', '2389.HK', '2373.HK', '2367.HK', '2359.HK', '2348.HK', '2325.HK', '2315.HK', '2297.HK', '2293.HK', '2291.HK', '2289.HK', '2279.HK', '2273.HK', '2269.HK', '2268.HK', '2257.HK', '2256.HK', '2252.HK', '2251.HK', '2235.HK', '2228.HK', '2219.HK', '2216.HK', '2211.HK', '2197.HK', '2196.HK', '2192.HK', '2190.HK', '2186.HK', '2185.HK', '2181.HK', '2179.HK', '2172.HK', '2171.HK', '2170.HK', '2162.HK', '2161.HK', '2160.HK', '2159.HK', '2158.HK', '2157.HK', '2142.HK', '2138.HK', '2137.HK', '2135.HK', '2126.HK', '2120.HK', '2105.HK', '2096.HK', '2031.HK', '2005.HK', '1952.HK', '1951.HK', '1947.HK', '1931.HK', '1889.HK', '1877.HK', '1875.HK', '1873.HK', '1858.HK', '1846.HK', '1833.HK', '1830.HK', '1827.HK', '1801.HK', '1789.HK', '1763.HK', '1726.HK', '1696.HK', '1681.HK', '1672.HK', '1666.HK', '1652.HK', '1643.HK', '1612.HK', '1558.HK', '1548.HK', '1541.HK', '1530.HK', '1526.HK', '1521.HK', '1518.HK', '1515.HK', '1513.HK', '1501.HK', '1498.HK', '1477.HK', '1419.HK', '1406.HK', '1358.HK', '1349.HK', '1345.HK', '1312.HK', '1302.HK', '1298.HK', '1276.HK', '1244.HK', '1228.HK', '1177.HK', '1167.HK', '1161.HK', '1110.HK', '1099.HK', '1093.HK', '1066.HK', '1061.HK', '1011.HK', '0950.HK', '0932.HK', '0928.HK', '0919.HK', '0897.HK', '0876.HK', '0874.HK', '0867.HK', '0858.HK', '0853.HK', '0775.HK', '0722.HK', '0719.HK', '0690.HK', '0673.HK', '0648.HK', '0630.HK', '0575.HK', '0574.HK', '0570.HK', '0557.HK', '0512.HK', '0460.HK', '0455.HK', '0401.HK', '0383.HK', '0348.HK', '0314.HK', '0286.HK', '0241.HK', '0239.HK', '0013.HK']\n"
          ]
        },
        {
          "output_type": "stream",
          "name": "stderr",
          "text": [
            "/tmp/ipython-input-13-2591903107.py:18: FutureWarning: YF.download() has changed argument auto_adjust default to True\n",
            "  data = yf.download(code_list_yiliao, period='30d', progress=False)\n"
          ]
        },
        {
          "output_type": "stream",
          "name": "stdout",
          "text": [
            "Ticker\n",
            "0013.HK    1.004241e+07\n",
            "0239.HK    4.560000e+04\n",
            "0241.HK    9.747565e+07\n",
            "0286.HK    0.000000e+00\n",
            "0314.HK    1.760656e+07\n",
            "               ...     \n",
            "9969.HK    1.897505e+07\n",
            "9989.HK    3.601650e+06\n",
            "9995.HK    1.110533e+07\n",
            "9996.HK    1.973786e+06\n",
            "9997.HK    4.975181e+06\n",
            "Length: 253, dtype: float64\n",
            "成交量排名前70%的股票代码: ['1093.HK', '0460.HK', '1177.HK', '2186.HK', '2228.HK', '0241.HK', '1530.HK', '1951.HK', '0512.HK', '2269.HK', '0876.HK', '1548.HK', '1302.HK', '1801.HK', '0690.HK', '0570.HK', '6955.HK', '0853.HK', '2096.HK', '0867.HK', '2157.HK', '9969.HK', '2005.HK', '0314.HK', '2616.HK', '3681.HK', '2453.HK', '9926.HK', '2367.HK', '9688.HK', '3692.HK', '1066.HK', '2158.HK', '3933.HK', '2172.HK', '2393.HK', '9885.HK', '9995.HK', '1558.HK', '6618.HK', '0928.HK', '2142.HK', '3320.HK', '0013.HK', '2252.HK', '1833.HK', '0775.HK', '1477.HK', '3759.HK', '6127.HK', '2607.HK', '1877.HK', '2196.HK', '1228.HK', '2522.HK', '1167.HK', '1276.HK', '1349.HK', '0719.HK', '6086.HK', '1099.HK', '6160.HK', '2666.HK', '1952.HK', '2359.HK', '1873.HK', '1672.HK', '1541.HK', '2552.HK', '6078.HK', '2105.HK', '1515.HK', '2160.HK', '3347.HK', '2268.HK', '2256.HK', '6996.HK', '3390.HK', '9997.HK', '2216.HK', '6855.HK', '2192.HK', '9966.HK', '6622.HK', '1789.HK', '2162.HK', '6877.HK', '2511.HK', '2137.HK', '2171.HK', '9939.HK', '9989.HK', '0673.HK', '2126.HK', '2500.HK', '6108.HK', '1681.HK', '0932.HK', '2410.HK', '2629.HK', '2297.HK', '1061.HK', '2273.HK', '1358.HK', '6660.HK', '9886.HK', '9996.HK', '2487.HK', '1643.HK', '1513.HK', '1858.HK', '8143.HK', '2587.HK', '2197.HK', '1666.HK', '8329.HK', '2633.HK', '2373.HK', '8223.HK', '2161.HK', '6998.HK', '2696.HK', '6185.HK', '0874.HK', '2565.HK', '2291.HK', '9860.HK', '0858.HK', '6628.HK', '6639.HK', '3613.HK', '2877.HK', '2389.HK', '1830.HK', '9955.HK', '6990.HK', '1696.HK', '6896.HK', '1726.HK', '3886.HK', '1110.HK', '3309.HK', '6681.HK', '6821.HK', '6826.HK', '9877.HK', '2566.HK', '8037.HK', '0348.HK', '1763.HK', '2185.HK', '6699.HK', '2190.HK', '0897.HK', '2219.HK', '9960.HK', '3600.HK', '1312.HK', '1612.HK', '2138.HK', '8622.HK', '2279.HK', '0574.HK', '0950.HK', '2415.HK', '9606.HK', '1011.HK', '1161.HK', '2211.HK', '3839.HK', '8357.HK', '2315.HK', '6978.HK', '2257.HK', '3737.HK', '1652.HK', '1931.HK']\n",
            "综合估值得分排名前15%的股票共有 3 只:\n",
            "['1099.HK', '1276.HK', '2607.HK']\n"
          ]
        }
      ]
    },
    {
      "cell_type": "code",
      "source": [
        "import pandas as pd\n",
        "import yfinance as yf\n",
        "import numpy as np\n",
        "\n",
        "# 1. 读取数据\n",
        "hsi_data = pd.read_csv('hsi all shares data 20250613.csv', encoding='gbk')\n",
        "stock_codes_df = pd.read_csv('stock_codes_full (1).csv')\n",
        "\n",
        "# 获取医疗保健业股票代码(约200支)\n",
        "medical_codes = stock_codes_df[\"医疗保健业\"].dropna().tolist()\n",
        "\n",
        "# 2. 初步筛选 - 放宽条件\n",
        "# 在原始数据中获取这些股票的估值数据\n",
        "filtered_data = hsi_data[hsi_data['WindCodes'].isin(medical_codes)].copy()\n",
        "\n",
        "# 基本质量筛选(保留约150-180支)\n",
        "filtered_data = filtered_data[\n",
        "    (filtered_data['PE_TTM'] > 0) &  # 剔除亏损企业\n",
        "    (filtered_data['PE_TTM'] < 150) &  # 放宽PE上限\n",
        "    (filtered_data['MKT_CAP'] > 100000000) &  # 降低市值要求至1亿港币\n",
        "    (filtered_data['MKT_FREESHARES'] > 100000000)  # 降低自由流通市值至1亿港币\n",
        "]\n",
        "\n",
        "# 3. 增长性筛选(保留约100-120支)\n",
        "# 计算增长指标\n",
        "filtered_data['SALES_GROWTH'] = filtered_data['WGSD_SALES'].pct_change()\n",
        "filtered_data['NET_PROFIT_GROWTH'] = filtered_data['WGSD_NET_INC'].pct_change()\n",
        "\n",
        "# 保留增长为正或高于行业中位数的股票\n",
        "sales_median = filtered_data['SALES_GROWTH'].median()\n",
        "profit_median = filtered_data['NET_PROFIT_GROWTH'].median()\n",
        "\n",
        "filtered_data = filtered_data[\n",
        "    (filtered_data['SALES_GROWTH'] > sales_median*0.7) &  # 放宽增长要求\n",
        "    (filtered_data['NET_PROFIT_GROWTH'] > profit_median*0.7) &\n",
        "    (filtered_data['WGSD_EBIT_OPER'] > 0)  # 营业利润为正\n",
        "]\n",
        "\n",
        "# 4. 流动性筛选(保留约80-100支)\n",
        "# 获取过去30天成交量数据\n",
        "try:\n",
        "    data = yf.download(filtered_data['WindCodes'].tolist(), period='30d', progress=False)\n",
        "    volume = data['Volume'].mean(axis=0)\n",
        "    volume_rank = volume.rank(pct=True)\n",
        "    # 保留成交量在前80%的股票\n",
        "    liquid_codes = volume_rank[volume_rank > 0.2].index.tolist()\n",
        "    filtered_data = filtered_data[filtered_data['WindCodes'].isin(liquid_codes)]\n",
        "except:\n",
        "    print(\"未能获取成交量数据，跳过流动性筛选\")\n",
        "\n",
        "# 5. 综合评分(最终筛选40-60支)\n",
        "# 计算综合评分(考虑估值、增长、规模等因素)\n",
        "filtered_data['VALUATION_SCORE'] = 1/filtered_data['PE_TTM']  # PE倒数，越低越好\n",
        "filtered_data['GROWTH_SCORE'] = filtered_data['SALES_GROWTH'] + filtered_data['NET_PROFIT_GROWTH']\n",
        "filtered_data['SIZE_SCORE'] = np.log(filtered_data['MKT_CAP'])  # 对数转换\n",
        "\n",
        "# 标准化各项指标\n",
        "for col in ['VALUATION_SCORE', 'GROWTH_SCORE', 'SIZE_SCORE']:\n",
        "    filtered_data[col] = (filtered_data[col] - filtered_data[col].mean()) / filtered_data[col].std()\n",
        "\n",
        "# 加权综合评分(可根据偏好调整权重)\n",
        "filtered_data['TOTAL_SCORE'] = (\n",
        "    0.4 * filtered_data['VALUATION_SCORE'] +\n",
        "    0.4 * filtered_data['GROWTH_SCORE'] +\n",
        "    0.2 * filtered_data['SIZE_SCORE']\n",
        ")\n",
        "\n",
        "# 按总分排序\n",
        "filtered_data = filtered_data.sort_values('TOTAL_SCORE', ascending=False)\n",
        "\n",
        "# 确定最终数量(40-60支)\n",
        "target_count = min(60, max(40, int(len(filtered_data)*0.3)))  # 取30%或40-60支\n",
        "final_codes1 = filtered_data.head(target_count)['WindCodes'].tolist()\n",
        "\n",
        "print(f\"最终筛选出 {len(final_codes1)} 支医疗保健业股票:\")\n",
        "print(final_codes1)\n",
        "\n",
        "# 保存结果\n",
        "filtered_data.head(target_count).to_csv('selected_medical_stocks.csv', index=False, encoding='utf-8-sig')"
      ],
      "metadata": {
        "colab": {
          "base_uri": "https://localhost:8080/"
        },
        "id": "ht6K7NsOq1TK",
        "outputId": "07b31821-e672-465b-c1c4-5facc1056f78"
      },
      "execution_count": 14,
      "outputs": [
        {
          "output_type": "stream",
          "name": "stderr",
          "text": [
            "/tmp/ipython-input-14-3717029756.py:26: FutureWarning: The default fill_method='pad' in Series.pct_change is deprecated and will be removed in a future version. Either fill in any non-leading NA values prior to calling pct_change or specify 'fill_method=None' to not fill NA values.\n",
            "  filtered_data['SALES_GROWTH'] = filtered_data['WGSD_SALES'].pct_change()\n",
            "/tmp/ipython-input-14-3717029756.py:27: FutureWarning: The default fill_method='pad' in Series.pct_change is deprecated and will be removed in a future version. Either fill in any non-leading NA values prior to calling pct_change or specify 'fill_method=None' to not fill NA values.\n",
            "  filtered_data['NET_PROFIT_GROWTH'] = filtered_data['WGSD_NET_INC'].pct_change()\n",
            "/tmp/ipython-input-14-3717029756.py:42: FutureWarning: YF.download() has changed argument auto_adjust default to True\n",
            "  data = yf.download(filtered_data['WindCodes'].tolist(), period='30d', progress=False)\n"
          ]
        },
        {
          "output_type": "stream",
          "name": "stdout",
          "text": [
            "最终筛选出 35 支医疗保健业股票:\n",
            "['3933.HK', '2607.HK', '3692.HK', '2666.HK', '1099.HK', '3320.HK', '0512.HK', '2196.HK', '2359.HK', '0241.HK', '6618.HK', '0874.HK', '1177.HK', '2005.HK', '6821.HK', '1513.HK', '0867.HK', '1066.HK', '0719.HK', '3759.HK', '6896.HK', '9989.HK', '1666.HK', '1093.HK', '1061.HK', '2269.HK', '1530.HK', '1358.HK', '2268.HK', '2186.HK', '3347.HK', '2172.HK', '1873.HK', '1858.HK', '6955.HK']\n"
          ]
        },
        {
          "output_type": "stream",
          "name": "stderr",
          "text": [
            "/tmp/ipython-input-14-3717029756.py:53: SettingWithCopyWarning: \n",
            "A value is trying to be set on a copy of a slice from a DataFrame.\n",
            "Try using .loc[row_indexer,col_indexer] = value instead\n",
            "\n",
            "See the caveats in the documentation: https://pandas.pydata.org/pandas-docs/stable/user_guide/indexing.html#returning-a-view-versus-a-copy\n",
            "  filtered_data['VALUATION_SCORE'] = 1/filtered_data['PE_TTM']  # PE倒数，越低越好\n",
            "/tmp/ipython-input-14-3717029756.py:54: SettingWithCopyWarning: \n",
            "A value is trying to be set on a copy of a slice from a DataFrame.\n",
            "Try using .loc[row_indexer,col_indexer] = value instead\n",
            "\n",
            "See the caveats in the documentation: https://pandas.pydata.org/pandas-docs/stable/user_guide/indexing.html#returning-a-view-versus-a-copy\n",
            "  filtered_data['GROWTH_SCORE'] = filtered_data['SALES_GROWTH'] + filtered_data['NET_PROFIT_GROWTH']\n",
            "/tmp/ipython-input-14-3717029756.py:55: SettingWithCopyWarning: \n",
            "A value is trying to be set on a copy of a slice from a DataFrame.\n",
            "Try using .loc[row_indexer,col_indexer] = value instead\n",
            "\n",
            "See the caveats in the documentation: https://pandas.pydata.org/pandas-docs/stable/user_guide/indexing.html#returning-a-view-versus-a-copy\n",
            "  filtered_data['SIZE_SCORE'] = np.log(filtered_data['MKT_CAP'])  # 对数转换\n",
            "/tmp/ipython-input-14-3717029756.py:59: SettingWithCopyWarning: \n",
            "A value is trying to be set on a copy of a slice from a DataFrame.\n",
            "Try using .loc[row_indexer,col_indexer] = value instead\n",
            "\n",
            "See the caveats in the documentation: https://pandas.pydata.org/pandas-docs/stable/user_guide/indexing.html#returning-a-view-versus-a-copy\n",
            "  filtered_data[col] = (filtered_data[col] - filtered_data[col].mean()) / filtered_data[col].std()\n",
            "/tmp/ipython-input-14-3717029756.py:62: SettingWithCopyWarning: \n",
            "A value is trying to be set on a copy of a slice from a DataFrame.\n",
            "Try using .loc[row_indexer,col_indexer] = value instead\n",
            "\n",
            "See the caveats in the documentation: https://pandas.pydata.org/pandas-docs/stable/user_guide/indexing.html#returning-a-view-versus-a-copy\n",
            "  filtered_data['TOTAL_SCORE'] = (\n"
          ]
        }
      ]
    },
    {
      "cell_type": "code",
      "source": [
        "print(\"医疗\")\n",
        "print(final_codes1)"
      ],
      "metadata": {
        "colab": {
          "base_uri": "https://localhost:8080/"
        },
        "id": "cjvyZuZGHBIh",
        "outputId": "b24dd373-282c-4566-fac2-86df4a64153c"
      },
      "execution_count": 15,
      "outputs": [
        {
          "output_type": "stream",
          "name": "stdout",
          "text": [
            "医疗\n",
            "['3933.HK', '2607.HK', '3692.HK', '2666.HK', '1099.HK', '3320.HK', '0512.HK', '2196.HK', '2359.HK', '0241.HK', '6618.HK', '0874.HK', '1177.HK', '2005.HK', '6821.HK', '1513.HK', '0867.HK', '1066.HK', '0719.HK', '3759.HK', '6896.HK', '9989.HK', '1666.HK', '1093.HK', '1061.HK', '2269.HK', '1530.HK', '1358.HK', '2268.HK', '2186.HK', '3347.HK', '2172.HK', '1873.HK', '1858.HK', '6955.HK']\n"
          ]
        }
      ]
    },
    {
      "cell_type": "code",
      "source": [
        "import pandas as pd\n",
        "import yfinance as yf\n",
        "import numpy as np\n",
        "\n",
        "# 1. 读取数据\n",
        "hsi_data = pd.read_csv('hsi all shares data 20250613.csv', encoding='gbk')\n",
        "stock_codes_df = pd.read_csv('stock_codes_full (1).csv')\n",
        "\n",
        "# 获取资讯科技业股票代码\n",
        "tech_codes = stock_codes_df[\"资讯科技业\"].dropna().tolist()\n",
        "print(f\"资讯科技业初始股票数量: {len(tech_codes)}\")\n",
        "\n",
        "# 2. 初步筛选\n",
        "filtered_data = hsi_data[hsi_data['WindCodes'].isin(tech_codes)].copy()\n",
        "\n",
        "# 基本质量筛选(大幅放宽条件)\n",
        "filtered_data = filtered_data[\n",
        "    (filtered_data['PE_TTM'] > 0) &  # 仍剔除亏损企业\n",
        "    (filtered_data['PE_TTM'] < 300) &  # 进一步放宽PE上限\n",
        "    (filtered_data['MKT_CAP'] > 30000000) &  # 市值要求降至3000万港币\n",
        "    (filtered_data['MKT_FREESHARES'] > 30000000)  # 自由流通市值降至3000万港币\n",
        "]\n",
        "print(f\"基本质量筛选后剩余: {len(filtered_data)}\")\n",
        "\n",
        "# 3. 改进增长性筛选方法\n",
        "# 使用绝对增长而非相对增长\n",
        "filtered_data['SALES_GROWTH'] = filtered_data['WGSD_SALES'].diff()  # 使用绝对差值\n",
        "filtered_data['NET_PROFIT_GROWTH'] = filtered_data['WGSD_NET_INC'].diff()\n",
        "\n",
        "# 计算行业增长阈值(使用更宽松的20分位数)\n",
        "sales_growth_threshold = filtered_data['SALES_GROWTH'].quantile(0.2)\n",
        "profit_growth_threshold = filtered_data['NET_PROFIT_GROWTH'].quantile(0.2)\n",
        "\n",
        "# 修正的筛选条件 - 确保括号正确匹配\n",
        "filtered_data = filtered_data[\n",
        "    ((filtered_data['SALES_GROWTH'] > sales_growth_threshold) |\n",
        "     (filtered_data['NET_PROFIT_GROWTH'] > profit_growth_threshold)) &\n",
        "    (filtered_data['WGSD_EBIT_OPER'] > 0)\n",
        "]\n",
        "print(f\"改进增长性筛选后剩余: {len(filtered_data)}\")\n",
        "\n",
        "# 4. 流动性筛选(调整为保留前80%)\n",
        "try:\n",
        "    data = yf.download(filtered_data['WindCodes'].tolist(), period='30d', progress=False)\n",
        "    volume = data['Volume'].mean(axis=0)\n",
        "    volume_rank = volume.rank(pct=True)\n",
        "    liquid_codes = volume_rank[volume_rank > 0.2].index.tolist()  # 保留前80%\n",
        "    filtered_data = filtered_data[filtered_data['WindCodes'].isin(liquid_codes)]\n",
        "    print(f\"流动性筛选后剩余: {len(filtered_data)}\")\n",
        "except Exception as e:\n",
        "    print(f\"未能获取成交量数据，跳过流动性筛选. 错误: {e}\")\n",
        "\n",
        "# 5. 综合评分与最终筛选\n",
        "# 计算各项评分\n",
        "filtered_data['VALUATION_SCORE'] = 1/np.log1p(filtered_data['PE_TTM'])\n",
        "filtered_data['GROWTH_SCORE'] = filtered_data['SALES_GROWTH'] + filtered_data['NET_PROFIT_GROWTH']\n",
        "filtered_data['SIZE_SCORE'] = np.log1p(filtered_data['MKT_CAP'])\n",
        "filtered_data['LIQUIDITY_SCORE'] = np.log1p(filtered_data['MKT_FREESHARES'])\n",
        "\n",
        "# 标准化\n",
        "for col in ['VALUATION_SCORE', 'GROWTH_SCORE', 'SIZE_SCORE', 'LIQUIDITY_SCORE']:\n",
        "    filtered_data[col] = (filtered_data[col] - filtered_data[col].mean()) / filtered_data[col].std()\n",
        "\n",
        "# 加权评分\n",
        "filtered_data['TOTAL_SCORE'] = (\n",
        "    0.25 * filtered_data['VALUATION_SCORE'] +\n",
        "    0.45 * filtered_data['GROWTH_SCORE'] +\n",
        "    0.15 * filtered_data['SIZE_SCORE'] +\n",
        "    0.15 * filtered_data['LIQUIDITY_SCORE']\n",
        ")\n",
        "\n",
        "# 按总分排序\n",
        "filtered_data = filtered_data.sort_values('TOTAL_SCORE', ascending=False)\n",
        "\n",
        "# 动态确定最终数量(60-80支)\n",
        "base_count = len(filtered_data)\n",
        "if base_count <= 80:\n",
        "    final_codes2 = filtered_data['WindCodes'].tolist()\n",
        "else:\n",
        "    target_count = min(80, max(60, int(base_count * 0.7)))\n",
        "    final_codes2 = filtered_data.head(target_count)['WindCodes'].tolist()\n",
        "\n",
        "print(f\"\\n最终筛选出 {len(final_codes2)} 支资讯科技业股票:\")\n",
        "print(final_codes2)\n",
        "\n",
        "# 保存结果\n",
        "result_df = filtered_data[filtered_data['WindCodes'].isin(final_codes2)]\n",
        "result_df.to_csv('selected_tech_stocks.csv', index=False, encoding='utf-8-sig')"
      ],
      "metadata": {
        "colab": {
          "base_uri": "https://localhost:8080/"
        },
        "id": "TwF58wjirj1T",
        "outputId": "9c613021-289e-4595-e4bb-1bab92fe483c"
      },
      "execution_count": 16,
      "outputs": [
        {
          "output_type": "stream",
          "name": "stderr",
          "text": [
            "/tmp/ipython-input-16-3649526906.py:44: FutureWarning: YF.download() has changed argument auto_adjust default to True\n",
            "  data = yf.download(filtered_data['WindCodes'].tolist(), period='30d', progress=False)\n"
          ]
        },
        {
          "output_type": "stream",
          "name": "stdout",
          "text": [
            "资讯科技业初始股票数量: 233\n",
            "基本质量筛选后剩余: 89\n",
            "改进增长性筛选后剩余: 63\n",
            "流动性筛选后剩余: 51\n",
            "\n",
            "最终筛选出 51 支资讯科技业股票:\n",
            "['0700.HK', '1810.HK', '3396.HK', '9999.HK', '0552.HK', '0285.HK', '0992.HK', '9698.HK', '3969.HK', '2660.HK', '1522.HK', '0856.HK', '1617.HK', '0327.HK', '0799.HK', '0696.HK', '3991.HK', '3888.HK', '6088.HK', '6869.HK', '1263.HK', '2400.HK', '0354.HK', '0434.HK', '1675.HK', '1686.HK', '0777.HK', '0596.HK', '6608.HK', '2166.HK', '1385.HK', '0536.HK', '1729.HK', '1720.HK', '8062.HK', '6069.HK', '1523.HK', '6860.HK', '0522.HK', '2878.HK', '1460.HK', '9636.HK', '2416.HK', '3315.HK', '2149.HK', '3738.HK', '1985.HK', '1059.HK', '1147.HK', '8017.HK', '3601.HK']\n"
          ]
        },
        {
          "output_type": "stream",
          "name": "stderr",
          "text": [
            "/tmp/ipython-input-16-3649526906.py:55: SettingWithCopyWarning: \n",
            "A value is trying to be set on a copy of a slice from a DataFrame.\n",
            "Try using .loc[row_indexer,col_indexer] = value instead\n",
            "\n",
            "See the caveats in the documentation: https://pandas.pydata.org/pandas-docs/stable/user_guide/indexing.html#returning-a-view-versus-a-copy\n",
            "  filtered_data['VALUATION_SCORE'] = 1/np.log1p(filtered_data['PE_TTM'])\n",
            "/tmp/ipython-input-16-3649526906.py:56: SettingWithCopyWarning: \n",
            "A value is trying to be set on a copy of a slice from a DataFrame.\n",
            "Try using .loc[row_indexer,col_indexer] = value instead\n",
            "\n",
            "See the caveats in the documentation: https://pandas.pydata.org/pandas-docs/stable/user_guide/indexing.html#returning-a-view-versus-a-copy\n",
            "  filtered_data['GROWTH_SCORE'] = filtered_data['SALES_GROWTH'] + filtered_data['NET_PROFIT_GROWTH']\n",
            "/tmp/ipython-input-16-3649526906.py:57: SettingWithCopyWarning: \n",
            "A value is trying to be set on a copy of a slice from a DataFrame.\n",
            "Try using .loc[row_indexer,col_indexer] = value instead\n",
            "\n",
            "See the caveats in the documentation: https://pandas.pydata.org/pandas-docs/stable/user_guide/indexing.html#returning-a-view-versus-a-copy\n",
            "  filtered_data['SIZE_SCORE'] = np.log1p(filtered_data['MKT_CAP'])\n",
            "/tmp/ipython-input-16-3649526906.py:58: SettingWithCopyWarning: \n",
            "A value is trying to be set on a copy of a slice from a DataFrame.\n",
            "Try using .loc[row_indexer,col_indexer] = value instead\n",
            "\n",
            "See the caveats in the documentation: https://pandas.pydata.org/pandas-docs/stable/user_guide/indexing.html#returning-a-view-versus-a-copy\n",
            "  filtered_data['LIQUIDITY_SCORE'] = np.log1p(filtered_data['MKT_FREESHARES'])\n",
            "/tmp/ipython-input-16-3649526906.py:62: SettingWithCopyWarning: \n",
            "A value is trying to be set on a copy of a slice from a DataFrame.\n",
            "Try using .loc[row_indexer,col_indexer] = value instead\n",
            "\n",
            "See the caveats in the documentation: https://pandas.pydata.org/pandas-docs/stable/user_guide/indexing.html#returning-a-view-versus-a-copy\n",
            "  filtered_data[col] = (filtered_data[col] - filtered_data[col].mean()) / filtered_data[col].std()\n",
            "/tmp/ipython-input-16-3649526906.py:65: SettingWithCopyWarning: \n",
            "A value is trying to be set on a copy of a slice from a DataFrame.\n",
            "Try using .loc[row_indexer,col_indexer] = value instead\n",
            "\n",
            "See the caveats in the documentation: https://pandas.pydata.org/pandas-docs/stable/user_guide/indexing.html#returning-a-view-versus-a-copy\n",
            "  filtered_data['TOTAL_SCORE'] = (\n"
          ]
        }
      ]
    },
    {
      "cell_type": "code",
      "source": [
        "print(\"资讯科技\")\n",
        "print(final_codes2)"
      ],
      "metadata": {
        "colab": {
          "base_uri": "https://localhost:8080/"
        },
        "id": "fr2MF1HQHEMB",
        "outputId": "6ec8613c-e237-41d0-e2e7-274edc335938"
      },
      "execution_count": 17,
      "outputs": [
        {
          "output_type": "stream",
          "name": "stdout",
          "text": [
            "资讯科技\n",
            "['0700.HK', '1810.HK', '3396.HK', '9999.HK', '0552.HK', '0285.HK', '0992.HK', '9698.HK', '3969.HK', '2660.HK', '1522.HK', '0856.HK', '1617.HK', '0327.HK', '0799.HK', '0696.HK', '3991.HK', '3888.HK', '6088.HK', '6869.HK', '1263.HK', '2400.HK', '0354.HK', '0434.HK', '1675.HK', '1686.HK', '0777.HK', '0596.HK', '6608.HK', '2166.HK', '1385.HK', '0536.HK', '1729.HK', '1720.HK', '8062.HK', '6069.HK', '1523.HK', '6860.HK', '0522.HK', '2878.HK', '1460.HK', '9636.HK', '2416.HK', '3315.HK', '2149.HK', '3738.HK', '1985.HK', '1059.HK', '1147.HK', '8017.HK', '3601.HK']\n"
          ]
        }
      ]
    },
    {
      "cell_type": "code",
      "source": [
        "import pandas as pd\n",
        "import yfinance as yf\n",
        "import numpy as np\n",
        "\n",
        "# 1. 读取数据\n",
        "hsi_data = pd.read_csv('hsi all shares data 20250613.csv', encoding='gbk')\n",
        "stock_codes_df = pd.read_csv('stock_codes_full (1).csv')\n",
        "\n",
        "# 获取资讯科技业股票代码\n",
        "tech_codes = stock_codes_df[\"金融业\"].dropna().tolist()\n",
        "print(f\"资讯科技业初始股票数量: {len(tech_codes)}\")\n",
        "\n",
        "# 2. 初步筛选\n",
        "filtered_data = hsi_data[hsi_data['WindCodes'].isin(tech_codes)].copy()\n",
        "\n",
        "# 基本质量筛选(大幅放宽条件)\n",
        "filtered_data = filtered_data[\n",
        "    (filtered_data['PE_TTM'] > 0) &  # 仍剔除亏损企业\n",
        "    (filtered_data['PE_TTM'] < 300) &  # 进一步放宽PE上限\n",
        "    (filtered_data['MKT_CAP'] > 30000000) &  # 市值要求降至3000万港币\n",
        "    (filtered_data['MKT_FREESHARES'] > 30000000)  # 自由流通市值降至3000万港币\n",
        "]\n",
        "print(f\"基本质量筛选后剩余: {len(filtered_data)}\")\n",
        "\n",
        "# 3. 改进增长性筛选方法\n",
        "# 使用绝对增长而非相对增长\n",
        "filtered_data['SALES_GROWTH'] = filtered_data['WGSD_SALES'].diff()  # 使用绝对差值\n",
        "filtered_data['NET_PROFIT_GROWTH'] = filtered_data['WGSD_NET_INC'].diff()\n",
        "\n",
        "# 计算行业增长阈值(使用更宽松的20分位数)\n",
        "sales_growth_threshold = filtered_data['SALES_GROWTH'].quantile(0.2)\n",
        "profit_growth_threshold = filtered_data['NET_PROFIT_GROWTH'].quantile(0.2)\n",
        "\n",
        "# 修正的筛选条件 - 确保括号正确匹配\n",
        "filtered_data = filtered_data[\n",
        "    ((filtered_data['SALES_GROWTH'] > sales_growth_threshold) |\n",
        "     (filtered_data['NET_PROFIT_GROWTH'] > profit_growth_threshold)) &\n",
        "    (filtered_data['WGSD_EBIT_OPER'] > 0)\n",
        "]\n",
        "print(f\"改进增长性筛选后剩余: {len(filtered_data)}\")\n",
        "\n",
        "# 4. 流动性筛选(调整为保留前80%)\n",
        "try:\n",
        "    data = yf.download(filtered_data['WindCodes'].tolist(), period='30d', progress=False)\n",
        "    volume = data['Volume'].mean(axis=0)\n",
        "    volume_rank = volume.rank(pct=True)\n",
        "    liquid_codes = volume_rank[volume_rank > 0.2].index.tolist()  # 保留前80%\n",
        "    filtered_data = filtered_data[filtered_data['WindCodes'].isin(liquid_codes)]\n",
        "    print(f\"流动性筛选后剩余: {len(filtered_data)}\")\n",
        "except Exception as e:\n",
        "    print(f\"未能获取成交量数据，跳过流动性筛选. 错误: {e}\")\n",
        "\n",
        "# 5. 综合评分与最终筛选\n",
        "# 计算各项评分\n",
        "filtered_data['VALUATION_SCORE'] = 1/np.log1p(filtered_data['PE_TTM'])\n",
        "filtered_data['GROWTH_SCORE'] = filtered_data['SALES_GROWTH'] + filtered_data['NET_PROFIT_GROWTH']\n",
        "filtered_data['SIZE_SCORE'] = np.log1p(filtered_data['MKT_CAP'])\n",
        "filtered_data['LIQUIDITY_SCORE'] = np.log1p(filtered_data['MKT_FREESHARES'])\n",
        "\n",
        "# 标准化\n",
        "for col in ['VALUATION_SCORE', 'GROWTH_SCORE', 'SIZE_SCORE', 'LIQUIDITY_SCORE']:\n",
        "    filtered_data[col] = (filtered_data[col] - filtered_data[col].mean()) / filtered_data[col].std()\n",
        "\n",
        "# 加权评分\n",
        "filtered_data['TOTAL_SCORE'] = (\n",
        "    0.25 * filtered_data['VALUATION_SCORE'] +\n",
        "    0.45 * filtered_data['GROWTH_SCORE'] +\n",
        "    0.15 * filtered_data['SIZE_SCORE'] +\n",
        "    0.15 * filtered_data['LIQUIDITY_SCORE']\n",
        ")\n",
        "\n",
        "# 按总分排序\n",
        "filtered_data = filtered_data.sort_values('TOTAL_SCORE', ascending=False)\n",
        "\n",
        "# 动态确定最终数量(60-80支)\n",
        "base_count = len(filtered_data)\n",
        "if base_count <= 80:\n",
        "    final_codes3 = filtered_data['WindCodes'].tolist()\n",
        "else:\n",
        "    target_count = min(80, max(60, int(base_count * 0.7)))\n",
        "    final_codes3 = filtered_data.head(target_count)['WindCodes'].tolist()\n",
        "\n",
        "print(f\"\\n最终筛选出 {len(final_codes3)} 支资讯科技业股票:\")\n",
        "print(final_codes3)\n",
        "\n",
        "# 保存结果\n",
        "result_df = filtered_data[filtered_data['WindCodes'].isin(final_codes3)]\n",
        "result_df.to_csv('selected_tech_stocks.csv', index=False, encoding='utf-8-sig')"
      ],
      "metadata": {
        "colab": {
          "base_uri": "https://localhost:8080/"
        },
        "id": "JA4ADMX8EyFe",
        "outputId": "34a25db7-8632-4d30-913e-d78915747907"
      },
      "execution_count": 18,
      "outputs": [
        {
          "output_type": "stream",
          "name": "stdout",
          "text": [
            "资讯科技业初始股票数量: 231\n",
            "基本质量筛选后剩余: 129\n",
            "改进增长性筛选后剩余: 91\n"
          ]
        },
        {
          "output_type": "stream",
          "name": "stderr",
          "text": [
            "/tmp/ipython-input-18-3819970534.py:44: FutureWarning: YF.download() has changed argument auto_adjust default to True\n",
            "  data = yf.download(filtered_data['WindCodes'].tolist(), period='30d', progress=False)\n"
          ]
        },
        {
          "output_type": "stream",
          "name": "stdout",
          "text": [
            "流动性筛选后剩余: 73\n",
            "\n",
            "最终筛选出 73 支资讯科技业股票:\n",
            "['2318.HK', '1398.HK', '0939.HK', '1288.HK', '2628.HK', '1339.HK', '3988.HK', '2601.HK', '3968.HK', '1658.HK', '3328.HK', '1336.HK', '3698.HK', '1508.HK', '6818.HK', '0998.HK', '1988.HK', '9668.HK', '2388.HK', '1578.HK', '2016.HK', '1299.HK', '1606.HK', '2888.HK', '9889.HK', '6881.HK', '3618.HK', '6886.HK', '1216.HK', '6963.HK', '1963.HK', '1776.HK', '1905.HK', '0388.HK', '0011.HK', '6099.HK', '0440.HK', '6806.HK', '6066.HK', '1601.HK', '2378.HK', '6196.HK', '3958.HK', '6178.HK', '2139.HK', '1916.HK', '0900.HK', '6060.HK', '2858.HK', '1456.HK', '0717.HK', '0376.HK', '0245.HK', '0227.HK', '2596.HK', '0086.HK', '0697.HK', '1697.HK', '1141.HK', '1375.HK', '1476.HK', '1709.HK', '9923.HK', '1140.HK', '0863.HK', '1073.HK', '0628.HK', '8030.HK', '0111.HK', '8350.HK', '1217.HK', '1572.HK', '1461.HK']\n"
          ]
        },
        {
          "output_type": "stream",
          "name": "stderr",
          "text": [
            "/tmp/ipython-input-18-3819970534.py:55: SettingWithCopyWarning: \n",
            "A value is trying to be set on a copy of a slice from a DataFrame.\n",
            "Try using .loc[row_indexer,col_indexer] = value instead\n",
            "\n",
            "See the caveats in the documentation: https://pandas.pydata.org/pandas-docs/stable/user_guide/indexing.html#returning-a-view-versus-a-copy\n",
            "  filtered_data['VALUATION_SCORE'] = 1/np.log1p(filtered_data['PE_TTM'])\n",
            "/tmp/ipython-input-18-3819970534.py:56: SettingWithCopyWarning: \n",
            "A value is trying to be set on a copy of a slice from a DataFrame.\n",
            "Try using .loc[row_indexer,col_indexer] = value instead\n",
            "\n",
            "See the caveats in the documentation: https://pandas.pydata.org/pandas-docs/stable/user_guide/indexing.html#returning-a-view-versus-a-copy\n",
            "  filtered_data['GROWTH_SCORE'] = filtered_data['SALES_GROWTH'] + filtered_data['NET_PROFIT_GROWTH']\n",
            "/tmp/ipython-input-18-3819970534.py:57: SettingWithCopyWarning: \n",
            "A value is trying to be set on a copy of a slice from a DataFrame.\n",
            "Try using .loc[row_indexer,col_indexer] = value instead\n",
            "\n",
            "See the caveats in the documentation: https://pandas.pydata.org/pandas-docs/stable/user_guide/indexing.html#returning-a-view-versus-a-copy\n",
            "  filtered_data['SIZE_SCORE'] = np.log1p(filtered_data['MKT_CAP'])\n",
            "/tmp/ipython-input-18-3819970534.py:58: SettingWithCopyWarning: \n",
            "A value is trying to be set on a copy of a slice from a DataFrame.\n",
            "Try using .loc[row_indexer,col_indexer] = value instead\n",
            "\n",
            "See the caveats in the documentation: https://pandas.pydata.org/pandas-docs/stable/user_guide/indexing.html#returning-a-view-versus-a-copy\n",
            "  filtered_data['LIQUIDITY_SCORE'] = np.log1p(filtered_data['MKT_FREESHARES'])\n",
            "/tmp/ipython-input-18-3819970534.py:62: SettingWithCopyWarning: \n",
            "A value is trying to be set on a copy of a slice from a DataFrame.\n",
            "Try using .loc[row_indexer,col_indexer] = value instead\n",
            "\n",
            "See the caveats in the documentation: https://pandas.pydata.org/pandas-docs/stable/user_guide/indexing.html#returning-a-view-versus-a-copy\n",
            "  filtered_data[col] = (filtered_data[col] - filtered_data[col].mean()) / filtered_data[col].std()\n",
            "/tmp/ipython-input-18-3819970534.py:65: SettingWithCopyWarning: \n",
            "A value is trying to be set on a copy of a slice from a DataFrame.\n",
            "Try using .loc[row_indexer,col_indexer] = value instead\n",
            "\n",
            "See the caveats in the documentation: https://pandas.pydata.org/pandas-docs/stable/user_guide/indexing.html#returning-a-view-versus-a-copy\n",
            "  filtered_data['TOTAL_SCORE'] = (\n"
          ]
        }
      ]
    },
    {
      "cell_type": "code",
      "source": [
        "print(\"金融73\")\n",
        "print(final_codes3)"
      ],
      "metadata": {
        "colab": {
          "base_uri": "https://localhost:8080/"
        },
        "id": "4LmYVGZVLTUd",
        "outputId": "1c812436-041f-4166-a25b-895127154ac0"
      },
      "execution_count": 19,
      "outputs": [
        {
          "output_type": "stream",
          "name": "stdout",
          "text": [
            "金融73\n",
            "['2318.HK', '1398.HK', '0939.HK', '1288.HK', '2628.HK', '1339.HK', '3988.HK', '2601.HK', '3968.HK', '1658.HK', '3328.HK', '1336.HK', '3698.HK', '1508.HK', '6818.HK', '0998.HK', '1988.HK', '9668.HK', '2388.HK', '1578.HK', '2016.HK', '1299.HK', '1606.HK', '2888.HK', '9889.HK', '6881.HK', '3618.HK', '6886.HK', '1216.HK', '6963.HK', '1963.HK', '1776.HK', '1905.HK', '0388.HK', '0011.HK', '6099.HK', '0440.HK', '6806.HK', '6066.HK', '1601.HK', '2378.HK', '6196.HK', '3958.HK', '6178.HK', '2139.HK', '1916.HK', '0900.HK', '6060.HK', '2858.HK', '1456.HK', '0717.HK', '0376.HK', '0245.HK', '0227.HK', '2596.HK', '0086.HK', '0697.HK', '1697.HK', '1141.HK', '1375.HK', '1476.HK', '1709.HK', '9923.HK', '1140.HK', '0863.HK', '1073.HK', '0628.HK', '8030.HK', '0111.HK', '8350.HK', '1217.HK', '1572.HK', '1461.HK']\n"
          ]
        }
      ]
    },
    {
      "cell_type": "code",
      "source": [
        "import pandas as pd\n",
        "import yfinance as yf\n",
        "import numpy as np\n",
        "\n",
        "# 1. 读取数据\n",
        "hsi_data = pd.read_csv('hsi all shares data 20250613.csv', encoding='gbk')\n",
        "stock_codes_df = pd.read_csv('stock_codes_full (1).csv')\n",
        "\n",
        "# 获取资讯科技业股票代码\n",
        "tech_codes = stock_codes_df[\"非必需性消费\"].dropna().tolist()\n",
        "print(f\"资讯科技业初始股票数量: {len(tech_codes)}\")\n",
        "\n",
        "# 2. 初步筛选\n",
        "filtered_data = hsi_data[hsi_data['WindCodes'].isin(tech_codes)].copy()\n",
        "\n",
        "# 基本质量筛选(大幅放宽条件)\n",
        "filtered_data = filtered_data[\n",
        "    (filtered_data['PE_TTM'] > 0) &  # 仍剔除亏损企业\n",
        "    (filtered_data['PE_TTM'] < 100) &  # 进一步放宽PE上限\n",
        "    (filtered_data['MKT_CAP'] > 50000000) &  # 市值要求降至3000万港币\n",
        "    (filtered_data['MKT_FREESHARES'] > 50000000)  # 自由流通市值降至3000万港币\n",
        "]\n",
        "print(f\"基本质量筛选后剩余: {len(filtered_data)}\")\n",
        "\n",
        "# 3. 改进增长性筛选方法\n",
        "# 使用绝对增长而非相对增长\n",
        "filtered_data['SALES_GROWTH'] = filtered_data['WGSD_SALES'].diff()  # 使用绝对差值\n",
        "filtered_data['NET_PROFIT_GROWTH'] = filtered_data['WGSD_NET_INC'].diff()\n",
        "\n",
        "# 计算行业增长阈值(使用更宽松的20分位数)\n",
        "sales_growth_threshold = filtered_data['SALES_GROWTH'].quantile(0.2)\n",
        "profit_growth_threshold = filtered_data['NET_PROFIT_GROWTH'].quantile(0.2)\n",
        "\n",
        "# 修正的筛选条件 - 确保括号正确匹配\n",
        "filtered_data = filtered_data[\n",
        "    ((filtered_data['SALES_GROWTH'] > sales_growth_threshold) |\n",
        "     (filtered_data['NET_PROFIT_GROWTH'] > profit_growth_threshold)) &\n",
        "    (filtered_data['WGSD_EBIT_OPER'] > 0)\n",
        "]\n",
        "print(f\"改进增长性筛选后剩余: {len(filtered_data)}\")\n",
        "\n",
        "# 4. 流动性筛选(调整为保留前80%)\n",
        "try:\n",
        "    data = yf.download(filtered_data['WindCodes'].tolist(), period='30d', progress=False)\n",
        "    volume = data['Volume'].mean(axis=0)\n",
        "    volume_rank = volume.rank(pct=True)\n",
        "    liquid_codes = volume_rank[volume_rank > 0.2].index.tolist()  # 保留前80%\n",
        "    filtered_data = filtered_data[filtered_data['WindCodes'].isin(liquid_codes)]\n",
        "    print(f\"流动性筛选后剩余: {len(filtered_data)}\")\n",
        "except Exception as e:\n",
        "    print(f\"未能获取成交量数据，跳过流动性筛选. 错误: {e}\")\n",
        "\n",
        "# 5. 综合评分与最终筛选\n",
        "# 计算各项评分\n",
        "filtered_data['VALUATION_SCORE'] = 1/np.log1p(filtered_data['PE_TTM'])\n",
        "filtered_data['GROWTH_SCORE'] = filtered_data['SALES_GROWTH'] + filtered_data['NET_PROFIT_GROWTH']\n",
        "filtered_data['SIZE_SCORE'] = np.log1p(filtered_data['MKT_CAP'])\n",
        "filtered_data['LIQUIDITY_SCORE'] = np.log1p(filtered_data['MKT_FREESHARES'])\n",
        "\n",
        "# 标准化\n",
        "for col in ['VALUATION_SCORE', 'GROWTH_SCORE', 'SIZE_SCORE', 'LIQUIDITY_SCORE']:\n",
        "    filtered_data[col] = (filtered_data[col] - filtered_data[col].mean()) / filtered_data[col].std()\n",
        "\n",
        "# 加权评分\n",
        "filtered_data['TOTAL_SCORE'] = (\n",
        "    0.25 * filtered_data['VALUATION_SCORE'] +\n",
        "    0.45 * filtered_data['GROWTH_SCORE'] +\n",
        "    0.15 * filtered_data['SIZE_SCORE'] +\n",
        "    0.15 * filtered_data['LIQUIDITY_SCORE']\n",
        ")\n",
        "\n",
        "# 按总分排序\n",
        "filtered_data = filtered_data.sort_values('TOTAL_SCORE', ascending=False)\n",
        "\n",
        "# 动态确定最终数量(60-80支)\n",
        "base_count = len(filtered_data)\n",
        "if base_count <= 80:\n",
        "    final_codes4 = filtered_data['WindCodes'].tolist()\n",
        "else:\n",
        "    target_count = min(80, max(60, int(base_count * 0.7)))\n",
        "    final_codes4 = filtered_data.head(target_count)['WindCodes'].tolist()\n",
        "\n",
        "print(f\"\\n最终筛选出 {len(final_codes4)} 支资讯科技业股票:\")\n",
        "print(final_codes4)\n",
        "\n",
        "# 保存结果\n",
        "result_df = filtered_data[filtered_data['WindCodes'].isin(final_codes4)]\n",
        "result_df.to_csv('selected_tech_stocks.csv', index=False, encoding='utf-8-sig')"
      ],
      "metadata": {
        "colab": {
          "base_uri": "https://localhost:8080/"
        },
        "id": "i5bT-8yvLsZv",
        "outputId": "967d0e43-44ab-4d0a-aea3-14ef07278324"
      },
      "execution_count": 20,
      "outputs": [
        {
          "output_type": "stream",
          "name": "stdout",
          "text": [
            "资讯科技业初始股票数量: 677\n",
            "基本质量筛选后剩余: 256\n",
            "改进增长性筛选后剩余: 199\n"
          ]
        },
        {
          "output_type": "stream",
          "name": "stderr",
          "text": [
            "/tmp/ipython-input-20-542514964.py:44: FutureWarning: YF.download() has changed argument auto_adjust default to True\n",
            "  data = yf.download(filtered_data['WindCodes'].tolist(), period='30d', progress=False)\n"
          ]
        },
        {
          "output_type": "stream",
          "name": "stdout",
          "text": [
            "流动性筛选后剩余: 160\n",
            "\n",
            "最终筛选出 80 支资讯科技业股票:\n",
            "['9618.HK', '9988.HK', '1211.HK', '3690.HK', '0300.HK', '6690.HK', '0175.HK', '2559.HK', '1756.HK', '2333.HK', '9888.HK', '1024.HK', '2015.HK', '0881.HK', '0293.HK', '9961.HK', '0066.HK', '1958.HK', '1765.HK', '8512.HK', '1929.HK', '0921.HK', '1698.HK', '0027.HK', '2313.HK', '1070.HK', '3606.HK', '0669.HK', '0564.HK', '0382.HK', '1928.HK', '1809.HK', '0551.HK', '0425.HK', '2588.HK', '6862.HK', '3998.HK', '6169.HK', '1179.HK', '2282.HK', '1880.HK', '2779.HK', '2331.HK', '1999.HK', '2020.HK', '1128.HK', '1913.HK', '1910.HK', '1563.HK', '9901.HK', '0780.HK', '6110.HK', '0811.HK', '2111.HK', '1836.HK', '1797.HK', '0179.HK', '0116.HK', '1361.HK', '0751.HK', '1585.HK', '6181.HK', '6969.HK', '3813.HK', '2678.HK', '9899.HK', '1969.HK', '1368.HK', '2232.HK', '9616.HK', '0525.HK', '3306.HK', '1357.HK', '1571.HK', '1126.HK', '2298.HK', '1525.HK', '1318.HK', '1982.HK', '1773.HK']\n"
          ]
        },
        {
          "output_type": "stream",
          "name": "stderr",
          "text": [
            "/tmp/ipython-input-20-542514964.py:55: SettingWithCopyWarning: \n",
            "A value is trying to be set on a copy of a slice from a DataFrame.\n",
            "Try using .loc[row_indexer,col_indexer] = value instead\n",
            "\n",
            "See the caveats in the documentation: https://pandas.pydata.org/pandas-docs/stable/user_guide/indexing.html#returning-a-view-versus-a-copy\n",
            "  filtered_data['VALUATION_SCORE'] = 1/np.log1p(filtered_data['PE_TTM'])\n",
            "/tmp/ipython-input-20-542514964.py:56: SettingWithCopyWarning: \n",
            "A value is trying to be set on a copy of a slice from a DataFrame.\n",
            "Try using .loc[row_indexer,col_indexer] = value instead\n",
            "\n",
            "See the caveats in the documentation: https://pandas.pydata.org/pandas-docs/stable/user_guide/indexing.html#returning-a-view-versus-a-copy\n",
            "  filtered_data['GROWTH_SCORE'] = filtered_data['SALES_GROWTH'] + filtered_data['NET_PROFIT_GROWTH']\n",
            "/tmp/ipython-input-20-542514964.py:57: SettingWithCopyWarning: \n",
            "A value is trying to be set on a copy of a slice from a DataFrame.\n",
            "Try using .loc[row_indexer,col_indexer] = value instead\n",
            "\n",
            "See the caveats in the documentation: https://pandas.pydata.org/pandas-docs/stable/user_guide/indexing.html#returning-a-view-versus-a-copy\n",
            "  filtered_data['SIZE_SCORE'] = np.log1p(filtered_data['MKT_CAP'])\n",
            "/tmp/ipython-input-20-542514964.py:58: SettingWithCopyWarning: \n",
            "A value is trying to be set on a copy of a slice from a DataFrame.\n",
            "Try using .loc[row_indexer,col_indexer] = value instead\n",
            "\n",
            "See the caveats in the documentation: https://pandas.pydata.org/pandas-docs/stable/user_guide/indexing.html#returning-a-view-versus-a-copy\n",
            "  filtered_data['LIQUIDITY_SCORE'] = np.log1p(filtered_data['MKT_FREESHARES'])\n",
            "/tmp/ipython-input-20-542514964.py:62: SettingWithCopyWarning: \n",
            "A value is trying to be set on a copy of a slice from a DataFrame.\n",
            "Try using .loc[row_indexer,col_indexer] = value instead\n",
            "\n",
            "See the caveats in the documentation: https://pandas.pydata.org/pandas-docs/stable/user_guide/indexing.html#returning-a-view-versus-a-copy\n",
            "  filtered_data[col] = (filtered_data[col] - filtered_data[col].mean()) / filtered_data[col].std()\n",
            "/tmp/ipython-input-20-542514964.py:65: SettingWithCopyWarning: \n",
            "A value is trying to be set on a copy of a slice from a DataFrame.\n",
            "Try using .loc[row_indexer,col_indexer] = value instead\n",
            "\n",
            "See the caveats in the documentation: https://pandas.pydata.org/pandas-docs/stable/user_guide/indexing.html#returning-a-view-versus-a-copy\n",
            "  filtered_data['TOTAL_SCORE'] = (\n"
          ]
        }
      ]
    },
    {
      "cell_type": "code",
      "source": [
        "print(\"非必需消费品80\")\n",
        "print(final_codes4)"
      ],
      "metadata": {
        "colab": {
          "base_uri": "https://localhost:8080/"
        },
        "id": "HjNvFxCCB1H7",
        "outputId": "66b46fca-a8a7-4f02-9601-063df30ab49b"
      },
      "execution_count": 21,
      "outputs": [
        {
          "output_type": "stream",
          "name": "stdout",
          "text": [
            "非必需消费品80\n",
            "['9618.HK', '9988.HK', '1211.HK', '3690.HK', '0300.HK', '6690.HK', '0175.HK', '2559.HK', '1756.HK', '2333.HK', '9888.HK', '1024.HK', '2015.HK', '0881.HK', '0293.HK', '9961.HK', '0066.HK', '1958.HK', '1765.HK', '8512.HK', '1929.HK', '0921.HK', '1698.HK', '0027.HK', '2313.HK', '1070.HK', '3606.HK', '0669.HK', '0564.HK', '0382.HK', '1928.HK', '1809.HK', '0551.HK', '0425.HK', '2588.HK', '6862.HK', '3998.HK', '6169.HK', '1179.HK', '2282.HK', '1880.HK', '2779.HK', '2331.HK', '1999.HK', '2020.HK', '1128.HK', '1913.HK', '1910.HK', '1563.HK', '9901.HK', '0780.HK', '6110.HK', '0811.HK', '2111.HK', '1836.HK', '1797.HK', '0179.HK', '0116.HK', '1361.HK', '0751.HK', '1585.HK', '6181.HK', '6969.HK', '3813.HK', '2678.HK', '9899.HK', '1969.HK', '1368.HK', '2232.HK', '9616.HK', '0525.HK', '3306.HK', '1357.HK', '1571.HK', '1126.HK', '2298.HK', '1525.HK', '1318.HK', '1982.HK', '1773.HK']\n"
          ]
        }
      ]
    },
    {
      "cell_type": "code",
      "source": [
        "import pandas as pd\n",
        "import yfinance as yf\n",
        "import numpy as np\n",
        "\n",
        "# 1. 读取数据\n",
        "hsi_data = pd.read_csv('hsi all shares data 20250613.csv', encoding='gbk')\n",
        "stock_codes_df = pd.read_csv('stock_codes_full (1).csv')\n",
        "\n",
        "# 获取资讯科技业股票代码\n",
        "tech_codes = stock_codes_df[\"工业\"].dropna().tolist()\n",
        "print(f\"资讯科技业初始股票数量: {len(tech_codes)}\")\n",
        "\n",
        "# 2. 初步筛选\n",
        "filtered_data = hsi_data[hsi_data['WindCodes'].isin(tech_codes)].copy()\n",
        "\n",
        "# 基本质量筛选(大幅放宽条件)\n",
        "filtered_data = filtered_data[\n",
        "    (filtered_data['PE_TTM'] > 0) &  # 仍剔除亏损企业\n",
        "    (filtered_data['PE_TTM'] < 100) &  # 进一步放宽PE上限\n",
        "    (filtered_data['MKT_CAP'] > 50000000) &  # 市值要求降至3000万港币\n",
        "    (filtered_data['MKT_FREESHARES'] > 50000000)  # 自由流通市值降至3000万港币\n",
        "]\n",
        "print(f\"基本质量筛选后剩余: {len(filtered_data)}\")\n",
        "\n",
        "# 3. 改进增长性筛选方法\n",
        "# 使用绝对增长而非相对增长\n",
        "filtered_data['SALES_GROWTH'] = filtered_data['WGSD_SALES'].diff()  # 使用绝对差值\n",
        "filtered_data['NET_PROFIT_GROWTH'] = filtered_data['WGSD_NET_INC'].diff()\n",
        "\n",
        "# 计算行业增长阈值(使用更宽松的20分位数)\n",
        "sales_growth_threshold = filtered_data['SALES_GROWTH'].quantile(0.2)\n",
        "profit_growth_threshold = filtered_data['NET_PROFIT_GROWTH'].quantile(0.2)\n",
        "\n",
        "# 修正的筛选条件 - 确保括号正确匹配\n",
        "filtered_data = filtered_data[\n",
        "    ((filtered_data['SALES_GROWTH'] > sales_growth_threshold) |\n",
        "     (filtered_data['NET_PROFIT_GROWTH'] > profit_growth_threshold)) &\n",
        "    (filtered_data['WGSD_EBIT_OPER'] > 0)\n",
        "]\n",
        "print(f\"改进增长性筛选后剩余: {len(filtered_data)}\")\n",
        "\n",
        "# 4. 流动性筛选(调整为保留前80%)\n",
        "try:\n",
        "    data = yf.download(filtered_data['WindCodes'].tolist(), period='30d', progress=False)\n",
        "    volume = data['Volume'].mean(axis=0)\n",
        "    volume_rank = volume.rank(pct=True)\n",
        "    liquid_codes = volume_rank[volume_rank > 0.3].index.tolist()  # 保留前80%\n",
        "    filtered_data = filtered_data[filtered_data['WindCodes'].isin(liquid_codes)]\n",
        "    print(f\"流动性筛选后剩余: {len(filtered_data)}\")\n",
        "except Exception as e:\n",
        "    print(f\"未能获取成交量数据，跳过流动性筛选. 错误: {e}\")\n",
        "\n",
        "# 5. 综合评分与最终筛选\n",
        "# 计算各项评分\n",
        "filtered_data['VALUATION_SCORE'] = 1/np.log1p(filtered_data['PE_TTM'])\n",
        "filtered_data['GROWTH_SCORE'] = filtered_data['SALES_GROWTH'] + filtered_data['NET_PROFIT_GROWTH']\n",
        "filtered_data['SIZE_SCORE'] = np.log1p(filtered_data['MKT_CAP'])\n",
        "filtered_data['LIQUIDITY_SCORE'] = np.log1p(filtered_data['MKT_FREESHARES'])\n",
        "\n",
        "# 标准化\n",
        "for col in ['VALUATION_SCORE', 'GROWTH_SCORE', 'SIZE_SCORE', 'LIQUIDITY_SCORE']:\n",
        "    filtered_data[col] = (filtered_data[col] - filtered_data[col].mean()) / filtered_data[col].std()\n",
        "\n",
        "# 加权评分\n",
        "filtered_data['TOTAL_SCORE'] = (\n",
        "    0.25 * filtered_data['VALUATION_SCORE'] +\n",
        "    0.45 * filtered_data['GROWTH_SCORE'] +\n",
        "    0.15 * filtered_data['SIZE_SCORE'] +\n",
        "    0.15 * filtered_data['LIQUIDITY_SCORE']\n",
        ")\n",
        "\n",
        "# 按总分排序\n",
        "filtered_data = filtered_data.sort_values('TOTAL_SCORE', ascending=False)\n",
        "\n",
        "# 动态确定最终数量(60-80支)\n",
        "base_count = len(filtered_data)\n",
        "if base_count <= 80:\n",
        "    final_codes5 = filtered_data['WindCodes'].tolist()\n",
        "else:\n",
        "    target_count = min(80, max(60, int(base_count * 0.7)))\n",
        "    final_codes5 = filtered_data.head(target_count)['WindCodes'].tolist()\n",
        "\n",
        "print(f\"\\n最终筛选出 {len(final_codes5)} 支资讯科技业股票:\")\n",
        "print(final_codes5)\n",
        "\n",
        "# 保存结果\n",
        "result_df = filtered_data[filtered_data['WindCodes'].isin(final_codes5)]\n",
        "result_df.to_csv('selected_tech_stocks.csv', index=False, encoding='utf-8-sig')"
      ],
      "metadata": {
        "colab": {
          "base_uri": "https://localhost:8080/"
        },
        "id": "hK_EHdAhCNm7",
        "outputId": "8762e0e1-a6c8-4026-ddb6-074556aff2af"
      },
      "execution_count": 22,
      "outputs": [
        {
          "output_type": "stream",
          "name": "stdout",
          "text": [
            "资讯科技业初始股票数量: 324\n",
            "基本质量筛选后剩余: 151\n",
            "改进增长性筛选后剩余: 116\n"
          ]
        },
        {
          "output_type": "stream",
          "name": "stderr",
          "text": [
            "/tmp/ipython-input-22-1544166795.py:44: FutureWarning: YF.download() has changed argument auto_adjust default to True\n",
            "  data = yf.download(filtered_data['WindCodes'].tolist(), period='30d', progress=False)\n"
          ]
        },
        {
          "output_type": "stream",
          "name": "stdout",
          "text": [
            "流动性筛选后剩余: 82\n",
            "\n",
            "最终筛选出 60 支资讯科技业股票:\n",
            "['3750.HK', '3996.HK', '1919.HK', '6936.HK', '0269.HK', '2338.HK', '2618.HK', '2039.HK', '0598.HK', '2727.HK', '2357.HK', '2382.HK', '1072.HK', '1157.HK', '0819.HK', '0316.HK', '0144.HK', '2018.HK', '0177.HK', '1308.HK', '3898.HK', '6198.HK', '2208.HK', '0576.HK', '1519.HK', '0868.HK', '1882.HK', '0148.HK', '0586.HK', '0636.HK', '1888.HK', '1138.HK', '3931.HK', '6865.HK', '0548.HK', '1415.HK', '2276.HK', '0107.HK', '2510.HK', '1478.HK', '9956.HK', '0951.HK', '3369.HK', '0152.HK', '9930.HK', '3339.HK', '2155.HK', '0995.HK', '0968.HK', '2507.HK', '1052.HK', '3393.HK', '1133.HK', '1651.HK', '0732.HK', '3382.HK', '0558.HK', '1330.HK', '1286.HK', '0842.HK']\n"
          ]
        },
        {
          "output_type": "stream",
          "name": "stderr",
          "text": [
            "/tmp/ipython-input-22-1544166795.py:55: SettingWithCopyWarning: \n",
            "A value is trying to be set on a copy of a slice from a DataFrame.\n",
            "Try using .loc[row_indexer,col_indexer] = value instead\n",
            "\n",
            "See the caveats in the documentation: https://pandas.pydata.org/pandas-docs/stable/user_guide/indexing.html#returning-a-view-versus-a-copy\n",
            "  filtered_data['VALUATION_SCORE'] = 1/np.log1p(filtered_data['PE_TTM'])\n",
            "/tmp/ipython-input-22-1544166795.py:56: SettingWithCopyWarning: \n",
            "A value is trying to be set on a copy of a slice from a DataFrame.\n",
            "Try using .loc[row_indexer,col_indexer] = value instead\n",
            "\n",
            "See the caveats in the documentation: https://pandas.pydata.org/pandas-docs/stable/user_guide/indexing.html#returning-a-view-versus-a-copy\n",
            "  filtered_data['GROWTH_SCORE'] = filtered_data['SALES_GROWTH'] + filtered_data['NET_PROFIT_GROWTH']\n",
            "/tmp/ipython-input-22-1544166795.py:57: SettingWithCopyWarning: \n",
            "A value is trying to be set on a copy of a slice from a DataFrame.\n",
            "Try using .loc[row_indexer,col_indexer] = value instead\n",
            "\n",
            "See the caveats in the documentation: https://pandas.pydata.org/pandas-docs/stable/user_guide/indexing.html#returning-a-view-versus-a-copy\n",
            "  filtered_data['SIZE_SCORE'] = np.log1p(filtered_data['MKT_CAP'])\n",
            "/tmp/ipython-input-22-1544166795.py:58: SettingWithCopyWarning: \n",
            "A value is trying to be set on a copy of a slice from a DataFrame.\n",
            "Try using .loc[row_indexer,col_indexer] = value instead\n",
            "\n",
            "See the caveats in the documentation: https://pandas.pydata.org/pandas-docs/stable/user_guide/indexing.html#returning-a-view-versus-a-copy\n",
            "  filtered_data['LIQUIDITY_SCORE'] = np.log1p(filtered_data['MKT_FREESHARES'])\n",
            "/tmp/ipython-input-22-1544166795.py:62: SettingWithCopyWarning: \n",
            "A value is trying to be set on a copy of a slice from a DataFrame.\n",
            "Try using .loc[row_indexer,col_indexer] = value instead\n",
            "\n",
            "See the caveats in the documentation: https://pandas.pydata.org/pandas-docs/stable/user_guide/indexing.html#returning-a-view-versus-a-copy\n",
            "  filtered_data[col] = (filtered_data[col] - filtered_data[col].mean()) / filtered_data[col].std()\n",
            "/tmp/ipython-input-22-1544166795.py:65: SettingWithCopyWarning: \n",
            "A value is trying to be set on a copy of a slice from a DataFrame.\n",
            "Try using .loc[row_indexer,col_indexer] = value instead\n",
            "\n",
            "See the caveats in the documentation: https://pandas.pydata.org/pandas-docs/stable/user_guide/indexing.html#returning-a-view-versus-a-copy\n",
            "  filtered_data['TOTAL_SCORE'] = (\n"
          ]
        }
      ]
    },
    {
      "cell_type": "code",
      "source": [
        "print(\"工业60\")\n",
        "print(final_codes5)"
      ],
      "metadata": {
        "colab": {
          "base_uri": "https://localhost:8080/"
        },
        "id": "MRb7BCV7Dhuk",
        "outputId": "1beae37b-27cd-4f3b-9352-67fb72bd8f2e"
      },
      "execution_count": 23,
      "outputs": [
        {
          "output_type": "stream",
          "name": "stdout",
          "text": [
            "工业60\n",
            "['3750.HK', '3996.HK', '1919.HK', '6936.HK', '0269.HK', '2338.HK', '2618.HK', '2039.HK', '0598.HK', '2727.HK', '2357.HK', '2382.HK', '1072.HK', '1157.HK', '0819.HK', '0316.HK', '0144.HK', '2018.HK', '0177.HK', '1308.HK', '3898.HK', '6198.HK', '2208.HK', '0576.HK', '1519.HK', '0868.HK', '1882.HK', '0148.HK', '0586.HK', '0636.HK', '1888.HK', '1138.HK', '3931.HK', '6865.HK', '0548.HK', '1415.HK', '2276.HK', '0107.HK', '2510.HK', '1478.HK', '9956.HK', '0951.HK', '3369.HK', '0152.HK', '9930.HK', '3339.HK', '2155.HK', '0995.HK', '0968.HK', '2507.HK', '1052.HK', '3393.HK', '1133.HK', '1651.HK', '0732.HK', '3382.HK', '0558.HK', '1330.HK', '1286.HK', '0842.HK']\n"
          ]
        }
      ]
    },
    {
      "cell_type": "code",
      "source": [
        "# 假设已经定义了五个列表 final_codes1, final_codes2, final_codes3, final_codes4, final_codes5\n",
        "\n",
        "# 合并五个列表\n",
        "merged_codes = final_codes1 + final_codes2 + final_codes3 + final_codes4 + final_codes5\n",
        "\n",
        "# 打印合并后的列表\n",
        "print(\"合并后的完整列表:\")\n",
        "print(merged_codes)\n",
        "\n",
        "# 打印每个列表的内容\n",
        "print(\"\\n各个列表的内容:\")\n",
        "print(f\"医疗: {final_codes1}\")\n",
        "print(f\"资讯科技: {final_codes2}\")\n",
        "print(f\"金融: {final_codes3}\")\n",
        "print(f\"非必需消费品: {final_codes4}\")\n",
        "print(f\"工业: {final_codes5}\")\n",
        "print(f\"一共有{len(merged_codes)}支\")\n"
      ],
      "metadata": {
        "colab": {
          "base_uri": "https://localhost:8080/"
        },
        "id": "gN2LiOp8D7BB",
        "outputId": "c18e5959-fbee-40a0-f17f-edefe5f4934f"
      },
      "execution_count": 29,
      "outputs": [
        {
          "output_type": "stream",
          "name": "stdout",
          "text": [
            "合并后的完整列表:\n",
            "['3933.HK', '2607.HK', '3692.HK', '2666.HK', '1099.HK', '3320.HK', '0512.HK', '2196.HK', '2359.HK', '0241.HK', '6618.HK', '0874.HK', '1177.HK', '2005.HK', '6821.HK', '1513.HK', '0867.HK', '1066.HK', '0719.HK', '3759.HK', '6896.HK', '9989.HK', '1666.HK', '1093.HK', '1061.HK', '2269.HK', '1530.HK', '1358.HK', '2268.HK', '2186.HK', '3347.HK', '2172.HK', '1873.HK', '1858.HK', '6955.HK', '0700.HK', '1810.HK', '3396.HK', '9999.HK', '0552.HK', '0285.HK', '0992.HK', '9698.HK', '3969.HK', '2660.HK', '1522.HK', '0856.HK', '1617.HK', '0327.HK', '0799.HK', '0696.HK', '3991.HK', '3888.HK', '6088.HK', '6869.HK', '1263.HK', '2400.HK', '0354.HK', '0434.HK', '1675.HK', '1686.HK', '0777.HK', '0596.HK', '6608.HK', '2166.HK', '1385.HK', '0536.HK', '1729.HK', '1720.HK', '8062.HK', '6069.HK', '1523.HK', '6860.HK', '0522.HK', '2878.HK', '1460.HK', '9636.HK', '2416.HK', '3315.HK', '2149.HK', '3738.HK', '1985.HK', '1059.HK', '1147.HK', '8017.HK', '3601.HK', '2318.HK', '1398.HK', '0939.HK', '1288.HK', '2628.HK', '1339.HK', '3988.HK', '2601.HK', '3968.HK', '1658.HK', '3328.HK', '1336.HK', '3698.HK', '1508.HK', '6818.HK', '0998.HK', '1988.HK', '9668.HK', '2388.HK', '1578.HK', '2016.HK', '1299.HK', '1606.HK', '2888.HK', '9889.HK', '6881.HK', '3618.HK', '6886.HK', '1216.HK', '6963.HK', '1963.HK', '1776.HK', '1905.HK', '0388.HK', '0011.HK', '6099.HK', '0440.HK', '6806.HK', '6066.HK', '1601.HK', '2378.HK', '6196.HK', '3958.HK', '6178.HK', '2139.HK', '1916.HK', '0900.HK', '6060.HK', '2858.HK', '1456.HK', '0717.HK', '0376.HK', '0245.HK', '0227.HK', '2596.HK', '0086.HK', '0697.HK', '1697.HK', '1141.HK', '1375.HK', '1476.HK', '1709.HK', '9923.HK', '1140.HK', '0863.HK', '1073.HK', '0628.HK', '8030.HK', '0111.HK', '8350.HK', '1217.HK', '1572.HK', '1461.HK', '9618.HK', '9988.HK', '1211.HK', '3690.HK', '0300.HK', '6690.HK', '0175.HK', '2559.HK', '1756.HK', '2333.HK', '9888.HK', '1024.HK', '2015.HK', '0881.HK', '0293.HK', '9961.HK', '0066.HK', '1958.HK', '1765.HK', '8512.HK', '1929.HK', '0921.HK', '1698.HK', '0027.HK', '2313.HK', '1070.HK', '3606.HK', '0669.HK', '0564.HK', '0382.HK', '1928.HK', '1809.HK', '0551.HK', '0425.HK', '2588.HK', '6862.HK', '3998.HK', '6169.HK', '1179.HK', '2282.HK', '1880.HK', '2779.HK', '2331.HK', '1999.HK', '2020.HK', '1128.HK', '1913.HK', '1910.HK', '1563.HK', '9901.HK', '0780.HK', '6110.HK', '0811.HK', '2111.HK', '1836.HK', '1797.HK', '0179.HK', '0116.HK', '1361.HK', '0751.HK', '1585.HK', '6181.HK', '6969.HK', '3813.HK', '2678.HK', '9899.HK', '1969.HK', '1368.HK', '2232.HK', '9616.HK', '0525.HK', '3306.HK', '1357.HK', '1571.HK', '1126.HK', '2298.HK', '1525.HK', '1318.HK', '1982.HK', '1773.HK', '3750.HK', '3996.HK', '1919.HK', '6936.HK', '0269.HK', '2338.HK', '2618.HK', '2039.HK', '0598.HK', '2727.HK', '2357.HK', '2382.HK', '1072.HK', '1157.HK', '0819.HK', '0316.HK', '0144.HK', '2018.HK', '0177.HK', '1308.HK', '3898.HK', '6198.HK', '2208.HK', '0576.HK', '1519.HK', '0868.HK', '1882.HK', '0148.HK', '0586.HK', '0636.HK', '1888.HK', '1138.HK', '3931.HK', '6865.HK', '0548.HK', '1415.HK', '2276.HK', '0107.HK', '2510.HK', '1478.HK', '9956.HK', '0951.HK', '3369.HK', '0152.HK', '9930.HK', '3339.HK', '2155.HK', '0995.HK', '0968.HK', '2507.HK', '1052.HK', '3393.HK', '1133.HK', '1651.HK', '0732.HK', '3382.HK', '0558.HK', '1330.HK', '1286.HK', '0842.HK']\n",
            "\n",
            "各个列表的内容:\n",
            "医疗: ['3933.HK', '2607.HK', '3692.HK', '2666.HK', '1099.HK', '3320.HK', '0512.HK', '2196.HK', '2359.HK', '0241.HK', '6618.HK', '0874.HK', '1177.HK', '2005.HK', '6821.HK', '1513.HK', '0867.HK', '1066.HK', '0719.HK', '3759.HK', '6896.HK', '9989.HK', '1666.HK', '1093.HK', '1061.HK', '2269.HK', '1530.HK', '1358.HK', '2268.HK', '2186.HK', '3347.HK', '2172.HK', '1873.HK', '1858.HK', '6955.HK']\n",
            "资讯科技: ['0700.HK', '1810.HK', '3396.HK', '9999.HK', '0552.HK', '0285.HK', '0992.HK', '9698.HK', '3969.HK', '2660.HK', '1522.HK', '0856.HK', '1617.HK', '0327.HK', '0799.HK', '0696.HK', '3991.HK', '3888.HK', '6088.HK', '6869.HK', '1263.HK', '2400.HK', '0354.HK', '0434.HK', '1675.HK', '1686.HK', '0777.HK', '0596.HK', '6608.HK', '2166.HK', '1385.HK', '0536.HK', '1729.HK', '1720.HK', '8062.HK', '6069.HK', '1523.HK', '6860.HK', '0522.HK', '2878.HK', '1460.HK', '9636.HK', '2416.HK', '3315.HK', '2149.HK', '3738.HK', '1985.HK', '1059.HK', '1147.HK', '8017.HK', '3601.HK']\n",
            "金融: ['2318.HK', '1398.HK', '0939.HK', '1288.HK', '2628.HK', '1339.HK', '3988.HK', '2601.HK', '3968.HK', '1658.HK', '3328.HK', '1336.HK', '3698.HK', '1508.HK', '6818.HK', '0998.HK', '1988.HK', '9668.HK', '2388.HK', '1578.HK', '2016.HK', '1299.HK', '1606.HK', '2888.HK', '9889.HK', '6881.HK', '3618.HK', '6886.HK', '1216.HK', '6963.HK', '1963.HK', '1776.HK', '1905.HK', '0388.HK', '0011.HK', '6099.HK', '0440.HK', '6806.HK', '6066.HK', '1601.HK', '2378.HK', '6196.HK', '3958.HK', '6178.HK', '2139.HK', '1916.HK', '0900.HK', '6060.HK', '2858.HK', '1456.HK', '0717.HK', '0376.HK', '0245.HK', '0227.HK', '2596.HK', '0086.HK', '0697.HK', '1697.HK', '1141.HK', '1375.HK', '1476.HK', '1709.HK', '9923.HK', '1140.HK', '0863.HK', '1073.HK', '0628.HK', '8030.HK', '0111.HK', '8350.HK', '1217.HK', '1572.HK', '1461.HK']\n",
            "非必需消费品: ['9618.HK', '9988.HK', '1211.HK', '3690.HK', '0300.HK', '6690.HK', '0175.HK', '2559.HK', '1756.HK', '2333.HK', '9888.HK', '1024.HK', '2015.HK', '0881.HK', '0293.HK', '9961.HK', '0066.HK', '1958.HK', '1765.HK', '8512.HK', '1929.HK', '0921.HK', '1698.HK', '0027.HK', '2313.HK', '1070.HK', '3606.HK', '0669.HK', '0564.HK', '0382.HK', '1928.HK', '1809.HK', '0551.HK', '0425.HK', '2588.HK', '6862.HK', '3998.HK', '6169.HK', '1179.HK', '2282.HK', '1880.HK', '2779.HK', '2331.HK', '1999.HK', '2020.HK', '1128.HK', '1913.HK', '1910.HK', '1563.HK', '9901.HK', '0780.HK', '6110.HK', '0811.HK', '2111.HK', '1836.HK', '1797.HK', '0179.HK', '0116.HK', '1361.HK', '0751.HK', '1585.HK', '6181.HK', '6969.HK', '3813.HK', '2678.HK', '9899.HK', '1969.HK', '1368.HK', '2232.HK', '9616.HK', '0525.HK', '3306.HK', '1357.HK', '1571.HK', '1126.HK', '2298.HK', '1525.HK', '1318.HK', '1982.HK', '1773.HK']\n",
            "工业: ['3750.HK', '3996.HK', '1919.HK', '6936.HK', '0269.HK', '2338.HK', '2618.HK', '2039.HK', '0598.HK', '2727.HK', '2357.HK', '2382.HK', '1072.HK', '1157.HK', '0819.HK', '0316.HK', '0144.HK', '2018.HK', '0177.HK', '1308.HK', '3898.HK', '6198.HK', '2208.HK', '0576.HK', '1519.HK', '0868.HK', '1882.HK', '0148.HK', '0586.HK', '0636.HK', '1888.HK', '1138.HK', '3931.HK', '6865.HK', '0548.HK', '1415.HK', '2276.HK', '0107.HK', '2510.HK', '1478.HK', '9956.HK', '0951.HK', '3369.HK', '0152.HK', '9930.HK', '3339.HK', '2155.HK', '0995.HK', '0968.HK', '2507.HK', '1052.HK', '3393.HK', '1133.HK', '1651.HK', '0732.HK', '3382.HK', '0558.HK', '1330.HK', '1286.HK', '0842.HK']\n",
            "一共有299支\n"
          ]
        }
      ]
    },
    {
      "cell_type": "code",
      "source": [],
      "metadata": {
        "id": "uTWn_ZYIEb-H"
      },
      "execution_count": 24,
      "outputs": []
    }
  ]
}